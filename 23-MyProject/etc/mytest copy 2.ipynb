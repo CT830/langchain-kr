{
 "cells": [
  {
   "cell_type": "code",
   "execution_count": 95,
   "metadata": {},
   "outputs": [
    {
     "data": {
      "text/plain": [
       "True"
      ]
     },
     "execution_count": 95,
     "metadata": {},
     "output_type": "execute_result"
    }
   ],
   "source": [
    "# API 키를 환경변수로 관리하기 위한 설정 파일\n",
    "from dotenv import load_dotenv\n",
    "\n",
    "# API 키 정보 로드\n",
    "load_dotenv()"
   ]
  },
  {
   "cell_type": "code",
   "execution_count": null,
   "metadata": {},
   "outputs": [],
   "source": [
    "# !pip install langchain-teddynote"
   ]
  },
  {
   "cell_type": "code",
   "execution_count": 96,
   "metadata": {},
   "outputs": [
    {
     "name": "stdout",
     "output_type": "stream",
     "text": [
      "LangSmith 추적을 시작합니다.\n",
      "[프로젝트명]\n",
      "CH99-MyTest\n"
     ]
    }
   ],
   "source": [
    "# LangSmith 추적을 설정합니다. https://smith.langchain.com\n",
    "# !pip install langchain-teddynote\n",
    "from langchain_teddynote import logging\n",
    "\n",
    "# 프로젝트 이름을 입력합니다.\n",
    "logging.langsmith(\"CH99-MyTest\")"
   ]
  },
  {
   "cell_type": "code",
   "execution_count": 97,
   "metadata": {},
   "outputs": [],
   "source": [
    "import pandas as pd\n",
    "import chromadb\n",
    "from chromadb.utils import embedding_functions\n",
    "from chromadb.config import Settings\n",
    "from tqdm import tqdm\n",
    "import os"
   ]
  },
  {
   "cell_type": "code",
   "execution_count": 98,
   "metadata": {},
   "outputs": [],
   "source": [
    "# 현재 디렉토리에 DB 저장 경로 설정\n",
    "current_dir = os.getcwd()\n",
    "db_path = os.path.join(current_dir, \"my_db.db\")\n",
    "\n",
    "# ChromaDB 클라이언트 초기화 (영구 저장소 설정)\n",
    "client = chromadb.PersistentClient(\n",
    "    path=db_path, settings=Settings(allow_reset=True, is_persistent=True)\n",
    ")\n"
   ]
  },
  {
   "cell_type": "code",
   "execution_count": null,
   "metadata": {},
   "outputs": [],
   "source": [
    "# Embedding 함수 설정\n",
    "embedding_function = embedding_functions.SentenceTransformerEmbeddingFunction(\n",
    "    model_name='all-MiniLM-L6-v2'\n",
    ")\n",
    "\n",
    "def reset_collection(client, collection_name):\n",
    "    try:\n",
    "        # 기존 컬렉션 존재 여부 확인\n",
    "        existing_collections = client.list_collections()\n",
    "        collection_exists = any(col.name == collection_name for col in existing_collections)\n",
    "        \n",
    "        if collection_exists:\n",
    "            print(f\"기존 컬렉션 '{collection_name}'을 삭제합니다.\")\n",
    "            client.delete_collection(collection_name)\n",
    "            print(f\"컬렉션 '{collection_name}'이 삭제되었습니다.\")\n",
    "        \n",
    "        # 새로운 컬렉션 생성\n",
    "        print(f\"새로운 컬렉션 '{collection_name}'을 생성합니다.\")\n",
    "        collection = client.create_collection(\n",
    "            name=collection_name,\n",
    "            embedding_function=embedding_function\n",
    "        )\n",
    "        \n",
    "        print(f\"컬렉션 '{collection_name}'이 성공적으로 초기화되었습니다.\")\n",
    "        return collection\n",
    "        \n",
    "    except Exception as e:\n",
    "        print(f\"컬렉션 초기화 중 오류 발생: {str(e)}\")\n",
    "        raise\n",
    "\n",
    "# 컬렉션 초기화 실행\n",
    "collection = reset_collection(client, \"my_collection\")\n",
    "\n",
    "# 컬렉션 정보 확인\n",
    "print(\"\\n=== 초기화된 컬렉션 정보 ===\")\n",
    "print(f\"컬렉션 이름: {collection.name}\")\n",
    "print(f\"컬렉션 크기: {collection.count()} 문서\")"
   ]
  },
  {
   "cell_type": "code",
   "execution_count": 101,
   "metadata": {},
   "outputs": [],
   "source": [
    "# CSV 파일 읽기\n",
    "df = pd.read_csv(\"./data/gong.csv\")"
   ]
  },
  {
   "cell_type": "code",
   "execution_count": null,
   "metadata": {},
   "outputs": [],
   "source": [
    "df.head(3)"
   ]
  },
  {
   "cell_type": "code",
   "execution_count": 46,
   "metadata": {},
   "outputs": [],
   "source": [
    "# Sentence Transformer 임베딩 함수 설정\n",
    "embedding_function = embedding_functions.SentenceTransformerEmbeddingFunction(\n",
    "    model_name=\"all-MiniLM-L6-v2\"\n",
    ")"
   ]
  },
  {
   "cell_type": "code",
   "execution_count": 103,
   "metadata": {},
   "outputs": [],
   "source": [
    "# 컬렉션 생성 (이미 존재하는 경우 가져오기)\n",
    "try:\n",
    "    collection = client.get_or_create_collection(\n",
    "        name=\"my_collection\", embedding_function=embedding_function\n",
    "    )\n",
    "except ValueError:\n",
    "    # 이미 존재하는 경우 기존 컬렉션 가져오기\n",
    "    collection = client.get_collection(\n",
    "        name=\"my_collection\", embedding_function=embedding_function\n",
    "    )"
   ]
  },
  {
   "cell_type": "code",
   "execution_count": 104,
   "metadata": {},
   "outputs": [
    {
     "name": "stdout",
     "output_type": "stream",
     "text": [
      "\n",
      "=== 컬렉션 정보 ===\n",
      "컬렉션 이름: my_collection\n",
      "컬렉션 크기: 0 문서\n"
     ]
    }
   ],
   "source": [
    "if collection.name == \"my_collection\":\n",
    "    collection_exist = True\n",
    "    print(\"\\n=== 컬렉션 정보 ===\")\n",
    "    print(f\"컬렉션 이름: {collection.name}\")\n",
    "    print(f\"컬렉션 크기: {collection.count()} 문서\")\n",
    "else:\n",
    "    collection_exist = False\n",
    "    print(\"collection does not exist\")"
   ]
  },
  {
   "cell_type": "code",
   "execution_count": 66,
   "metadata": {},
   "outputs": [
    {
     "name": "stdout",
     "output_type": "stream",
     "text": [
      "컬렉션 이름: my_collection 을 불러왔습니다.\n",
      "컬렉션 크기: 3150 문서\n"
     ]
    }
   ],
   "source": [
    "# 각 행을 문자열로 변환하는 함수\n",
    "def row_to_string(row):\n",
    "    return \" \".join([f\"{col}: {val}\" for col, val in row.items()])\n",
    "\n",
    "\n",
    "# 배치 크기 설정\n",
    "BATCH_SIZE = 100\n",
    "\n",
    "if collection_exist == False:\n",
    "    # 전체 데이터 처리를 위한 반복 횟수 계산\n",
    "    num_batches = len(df) // BATCH_SIZE + (1 if len(df) % BATCH_SIZE != 0 else 0)\n",
    "\n",
    "    # 배치 처리로 데이터 저장\n",
    "    for i in tqdm(range(num_batches)):\n",
    "        start_idx = i * BATCH_SIZE\n",
    "        end_idx = min((i + 1) * BATCH_SIZE, len(df))\n",
    "\n",
    "        batch_df = df.iloc[start_idx:end_idx]\n",
    "\n",
    "        documents = []\n",
    "        ids = []\n",
    "\n",
    "        for idx, row in batch_df.iterrows():\n",
    "            # 각 행을 문자열로 변환\n",
    "            doc_string = row_to_string(row)\n",
    "            documents.append(doc_string)\n",
    "            ids.append(str(idx))\n",
    "\n",
    "        # ChromaDB에 배치 추가\n",
    "        collection.add(documents=documents, ids=ids)\n",
    "\n",
    "    print(f\"총 {len(df)}개의 행이 성공적으로 저장되었습니다.\")\n",
    "    print(f\"데이터베이스가 다음 경로에 저장되었습니다: {db_path}\")\n",
    "else:\n",
    "    print(f\"컬렉션 이름: {collection.name} 을 불러왔습니다.\")\n",
    "    print(f\"컬렉션 크기: {collection.count()} 문서\")"
   ]
  },
  {
   "cell_type": "code",
   "execution_count": null,
   "metadata": {},
   "outputs": [],
   "source": [
    "# 첫 번째 document 가져오기\n",
    "result = collection.get(\n",
    "    ids=[\"0\"],  # 첫 번째 행의 ID\n",
    "    include=[\"documents\", \"embeddings\"],  # documents와 embeddings 모두 포함\n",
    ")\n",
    "\n",
    "print(\"Document 내용:\")\n",
    "print(result[\"documents\"][0])  # 첫 번째 document의 텍스트 내용\n",
    "\n",
    "print(\"\\nEmbedding 벡터 (처음 10개 값):\")\n",
    "print(result[\"embeddings\"][0][:10])  # 임베딩 벡터의 처음 10개 값만 출력"
   ]
  },
  {
   "cell_type": "code",
   "execution_count": 94,
   "metadata": {},
   "outputs": [
    {
     "name": "stdout",
     "output_type": "stream",
     "text": [
      "=== 검색된 문서 ===\n",
      "\n",
      "Document 1:\n",
      "col1: 1004 col2: 168413 col3: 2024-04-02 17:38:01 col4: 2024년 부산 남구 청년 소셜리빙랩 「INNOVATING 남구! 아이디어 공모전」 col5: 멘토링ㆍ컨설팅ㆍ교육 col6: 부산광역시 col7: 대학생, 일반인, 1인 창조기업 col8: 만 20세 이상 ~ 만 39세 이하 col9: 2024-04-01 ~ 2024-05-06 23:59 col10: 전체 col11: (사)사회혁신연구원 col12: 민간 col13: 지속가능연구소 col14: (사)사회혁신연구원 공고 제24-002호 col15: 2024 부산 남구 청년소셜리빙랩 「INNOVATING 남구!」 아이디어 공모전은\n",
      "\n",
      "부산광역시 남구 지역 내 ‘현장에서 발생하고 있는 문제’ 또는 ‘일상생활 속에서 주민들이 겪고 있는 고충’들을 이해하고 해당 문제를 해결하기 위한 아이디어를 발굴적용개선하여 가장 적합한 사회문제해결 아이디어를 찾아가는 프로그램입니다. \n",
      "\n",
      "본 프로그램에서는 행정에서 고민하고 있거나 청년들이 스스로 찾고 해결하고자 하는 지역 문제에 대해 다양한 대안들을 생각실천해보고 비교검증해나가면서 실효성 있는 아이디어를 찾아갈 수 있도록 지원합니다. 또한 해당 아이디어가 지역 사회 혁신의 맹아로써 기능할 수 있도록 사업화(비즈니스모델) 또는 정책화(남구정책사업 연계) 가능성을 검토해 보고자 합니다.\n",
      "\n",
      "남구 사회문제해결에 관심이 있는 창의적이고 도전적인 청년들의 많은 참여를 기대합니다.\n",
      "감사합니다. col16: 2024년 04월 01일 col17: (사)사회혁신연구원 col18: 2024.04.01(월) 00:00 ~ 2024.05.06(월) 23:59 까지 col19: nan col20: nan col21: nan col22: nan col23: nan col24: 부산 지역 청년\n",
      " *청년기준 : 만 18세 이상~39세 이하\n",
      " *최소 2인 이상의 팀 구성 필수 col25: nan\n",
      "\n",
      "Document 2:\n",
      "col1: 2934 col2: 170556 col3: 2024-09-04 11:11:38 col4: 강원 지역 창업 활성화/스타트업 육성을 위한「국내 최대 크라우드펀딩 설명회」모집 공고 col5: 멘토링ㆍ컨설팅ㆍ교육 col6: 강원도 col7: 전체 col8: 만 20세 미만, 만 20세 이상 ~ 만 39세 이하 col9: 2024-09-04 ~ 2024-09-23 00:00 col10: 전체 col11: 와디즈 col12: 민간 col13: 메이커성장기획팀 col14: nan col15: 강릉/강원도 지역에 거주하고 계신 예비 창업자 혹은 기창업자를 대상으로 대규모 크라우드펀딩 설명회를 진행합니다.\n",
      "사업 확장을 꿈꾸고 계시거나 크라우드펀딩을 준비하고 계신 분들이라면 누구나 신청 가능합니다.\n",
      "\n",
      " col16: 2024년 09월 04일 col17: 와디즈 col18: 2024.09.04(수) 00:00 ~ 2024.09.23(월) 00:00 까지 col19: nan col20: nan col21: nan col22: https://www.wadiz.kr/web/school/detail/1247?utm_source=rwm_site&amp;utm_medium=contents&amp;utm_campaign=%EC%8A%A4%EC%BF%A8%EC%8B%A0%EC%B2%AD&amp;utm_content=%EB%A9%94%EC%9D%B4%EC%BB%A4%EB%8D%B0%EC%9D%B4&amp;utm_term=%EA%B0%95%EB%A6%89 col23: nan col24: 예비 창업자 또는 기창업자 (개인/사업자 모두 가능) col25: nan\n",
      "\n",
      "Document 3:\n",
      "col1: 1630 col2: 168951 col3: 2024-05-20 16:39:08 col4: 『2024년 창업중심대학』 충청권(한남대학교) 청년 창업아이템 챌린지 col5: 행사ㆍ네트워크 col6: 대전광역시 col7: 대학생, 일반인 col8: 만 20세 이상 ~ 만 39세 이하 col9: 2024-05-20 ~ 2024-06-16 23:59 col10: 예비창업자 col11: 한남대학교 col12: 교육기관 col13: 창업지원단 col14: 한남대학교 창업지원단 공고 2024-01호 col15: 한남대학교는 권역(대전, 세종, 충청) 내 우수한 창업아이템(아이디어)을 보유한 팀을 발굴 및 지원하여 참가자의 도전 정신을 제고하고 청년창업 전반의 창업 분위기를 고양하기 위해 '도전! K-스타트업 2024'의 일환으로 『2024년 창업중심대학』 충청권(한남대학교) 청년 창업아이템 챌린지를 다음과 같이 공고하오니 많은 관심과 참여 바랍니다. col16: 2024년 05월 20일 col17: 한남대학교 창업지원단 col18: 2024.05.20(월) 00:00 ~ 2024.06.16(일) 23:59 까지 col19: nan col20: nan col21: nan col22: nan col23: nan col24: [공통사항]\n",
      "· (기준) 도전! K-스타트업 통합공고일 기준(24.1.29)\n",
      "· (자격) 만 39세 이하 청년이자 팀장 포함 2인 이상으로 구성된 창업팀\n",
      "\n",
      "•신청자(팀장)는 통합공고일 기준 신청자 명의의 사업자 등록이 없는 예비창업자\n",
      " ※팀원은 예비창업자 또는 보유한 모든 사업자가 7년 이내(’17.1.29. 이후 창업)인 창업기업 대표자이어야함 col25: • 「중소기업창업 지원법」 시행령 제4조에 따라 창업에서 제외되는 업종과 사행성 및 환경오염 유발 등 반사회적 성격의 창업 아이템\n",
      "\n",
      "• 부처 합동 창업경진대회 “도전! K-스타트업 왕중왕전 2016 ~ 2023” 기 수상자(팀원 포함) 또는 수상 아이템(왕중왕전 특별상·입상자 제외)\n",
      "\n",
      "• 통합공고일 기준 동일 또는 유사한 아이템으로 과거 他 창업경진대회를 통해 누적 상금 3천만원 이상 받은 자\n",
      "  * 他 창업경진대회는 민간·공공·대학에서 주최한 모든 ‘창업경진대회’와 ‘창업 아이디어 공모전’을 포함\n",
      "  * 상금은 ‘기타소득’으로 한정하며, 기술개발, 실증 등 사업화 목적의 지원금과는 별개\n",
      "  * 예비창업팀의 경우 ‘팀장’(팀원제외), 기 창업자의 경우 ‘대표자’와 ‘창업기업’ 수상 내역 확인\n",
      "\n",
      "• ’24년 행정안전부 주최 「범정부 공공데이터 활용 창업경진대회」 통합본선에 동일·유사한 아이템으로 진출한 자(팀)\n",
      "  * 아이템에 적용된 핵심기술과 사업BM, 목적 및 지향점을 종합적 판단\n",
      "\n",
      "• 대회 참가 신청 아이템 및 기업이 타인의 특허, 실용신안 등 지식재산권을 침해한 사실이 있거나 침해 관련 소송 등의 재판 진행 중인 자(기업) 또는 아이템\n"
     ]
    }
   ],
   "source": [
    "from langchain_openai import ChatOpenAI\n",
    "import chromadb\n",
    "from chromadb.utils import embedding_functions\n",
    "import os\n",
    "\n",
    "# ChromaDB 클라이언트 연결\n",
    "client = chromadb.PersistentClient(path=\"my_db.db\")\n",
    "\n",
    "# Embedding 함수 설정\n",
    "embedding_function = embedding_functions.SentenceTransformerEmbeddingFunction(\n",
    "    model_name=\"all-MiniLM-L6-v2\"\n",
    ")\n",
    "\n",
    "# 컬렉션 가져오기\n",
    "collection = client.get_collection(\n",
    "    name=\"my_collection\", embedding_function=embedding_function\n",
    ")\n",
    "\n",
    "# 쿼리 실행\n",
    "query = \"예비창업패키지 지원사업 알려줘\"\n",
    "results = collection.query(query_texts=[query], n_results=3)  # 상위 3개 결과 가져오기\n",
    "# results = collection.query(\n",
    "#     query_texts=[query],\n",
    "#     n_results=3,\n",
    "#     where_document={\n",
    "#         \"$and\": [\n",
    "#             {\"$contains\": \"col6\"}, # 지역\n",
    "#             {\"$contains\": \"col7\"}, # 지원 대상 ( 대학생, 일반인, 대학 등 )\n",
    "#            # {\"$contains\": \"col8\"}  # 지원 연령 ( 만 20세 이상 등 )\n",
    "#         ]\n",
    "#     }\n",
    "# )\n",
    "\n",
    "# 검색 결과 출력\n",
    "print(\"=== 검색된 문서 ===\")\n",
    "for i, doc in enumerate(results[\"documents\"][0]):\n",
    "    print(f\"\\nDocument {i+1}:\")\n",
    "    print(doc)"
   ]
  },
  {
   "cell_type": "code",
   "execution_count": null,
   "metadata": {},
   "outputs": [],
   "source": [
    "# OpenAI를 사용한 답변 생성\n",
    "# 객체 생성\n",
    "llm = ChatOpenAI(\n",
    "    temperature=0.1,  # 창의성 (0.0 ~ 2.0)\n",
    "    model_name=\"gpt-4o\",  # 모델명\n",
    ")\n",
    "# client = OpenAI(\n",
    "#     api_key=\"<OpenAI API Key>\"\n",
    "# )  # OpenAI API 키 입력\n",
    "\n",
    "# 프롬프트 구성\n",
    "prompt = f\"\"\"다음은 예비창업자가 지원할 수 있는 지원사업에 대한 검색 결과입니다. \n",
    "이를 바탕으로 예비창업자가 지원할 수 있는 주요 지원사업들을 간단명료하게 요약해서 설명해주세요:\n",
    "\n",
    "{results['documents'][0]}\n",
    "\"\"\"\n",
    "\n",
    "# ChatGPT API 호출\n",
    "# response = client.chat.completions.create(\n",
    "#     model=\"gpt-4o\",\n",
    "#     messages=[\n",
    "#         {\n",
    "#             \"role\": \"system\",\n",
    "#             \"content\": \"You are a helpful assistant that explains startup support programs in Korean.\",\n",
    "#         },\n",
    "#         {\"role\": \"user\", \"content\": prompt},\n",
    "#     ],\n",
    "#     temperature=0,\n",
    "#     max_tokens=1000,\n",
    "# )\n",
    "response = llm.invoke(prompt)\n",
    "\n",
    "print(\"\\n=== AI 답변 ===\")\n",
    "print(response.content)"
   ]
  }
 ],
 "metadata": {
  "kernelspec": {
   "display_name": "langchain-kr-uRT90lmq-py3.11",
   "language": "python",
   "name": "python3"
  },
  "language_info": {
   "codemirror_mode": {
    "name": "ipython",
    "version": 3
   },
   "file_extension": ".py",
   "mimetype": "text/x-python",
   "name": "python",
   "nbconvert_exporter": "python",
   "pygments_lexer": "ipython3",
   "version": "3.11.10"
  }
 },
 "nbformat": 4,
 "nbformat_minor": 2
}
