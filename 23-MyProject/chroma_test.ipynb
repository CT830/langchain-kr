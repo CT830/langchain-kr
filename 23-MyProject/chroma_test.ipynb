{
 "cells": [
  {
   "cell_type": "markdown",
   "metadata": {},
   "source": [
    "# Chroma"
   ]
  },
  {
   "cell_type": "markdown",
   "metadata": {},
   "source": [
    "1. CSVLoader() 로 csv 파일 로드\n",
    "2. xml document 생성\n",
    "3. TextSplitter로 분할 : chunk_size=600, \n",
    "4. chroma db 생성(우선 10개만)\n",
    "   - splited text로 db 생성\n",
    "   - embedding : OpenAIEmbedding()\n",
    "5. query 테스트"
   ]
  },
  {
   "cell_type": "code",
   "execution_count": null,
   "metadata": {},
   "outputs": [],
   "source": [
    "# API 키를 환경변수로 관리하기 위한 설정 파일\n",
    "from dotenv import load_dotenv\n",
    "\n",
    "# API 키 정보 로드\n",
    "load_dotenv()"
   ]
  },
  {
   "cell_type": "code",
   "execution_count": null,
   "metadata": {},
   "outputs": [],
   "source": [
    "# LangSmith 추적을 설정합니다. https://smith.langchain.com\n",
    "# !pip install langchain-teddynote\n",
    "from langchain_teddynote import logging\n",
    "\n",
    "# 프로젝트 이름을 입력합니다.\n",
    "logging.langsmith(\"CH09-VectorStores\")"
   ]
  },
  {
   "cell_type": "code",
   "execution_count": null,
   "metadata": {},
   "outputs": [],
   "source": [
    "from langchain_community.document_loaders.csv_loader import CSVLoader\n",
    "\n",
    "# CSV 파일 경로\n",
    "loader = CSVLoader(\n",
    "    file_path=\"./data/announcement.csv\",\n",
    "    csv_args={\n",
    "        \"delimiter\": \",\",  # 구분자\n",
    "        \"quotechar\": '\"',  # 인용 부호 문자\n",
    "        \"fieldnames\": [\n",
    "            \"Sequence\",  # 순번\n",
    "            \"Registration number\",  # 공고번호\n",
    "            \"Announcement name\",  # 공고명\n",
    "            \"Support areas\",  # 지원분야\n",
    "            \"Region\",  # 지역\n",
    "            \"Target\",  # 지원대상\n",
    "            \"Target age\",  # 대상연령\n",
    "            \"Application period\",  # 접수기간\n",
    "            \"Entrepreneurial history\",  # 업력\n",
    "            \"Institution name\",  # 기관명\n",
    "            \"Organization classification\",  # 기관구분 : 공공, 민간, 교육\n",
    "            \"Department in charge\",  # 담당부서\n",
    "            \"Announcement number\",  # 공고 제 호\n",
    "            \"Announcement contents\",  # 공고내용\n",
    "            \"Registration date\",  # 공고등록일\n",
    "            \"Announcement registrar name\",  # 공고 기업명\n",
    "            \"How to apply work-in\",  # 신청방법 : 방문\n",
    "            \"How to apply By mail\",  # 신청방법 : 우편\n",
    "            \"How to apply By Fax\",  # 신청방법 : FAX\n",
    "            \"How to apply By email\",  # 신청방법 : email\n",
    "            \"How to apply online\",  # 신청방법 : 온라인\n",
    "            \"How to apply other\",  # 신청방법 : 기타\n",
    "            \"Who to apply for\",  # 신청대상\n",
    "            \"Excluded from application\",  # 제외대상\n",
    "            \"Summary\",  # 공고명 + 공고내용\n",
    "        ],  # 필드 이름\n",
    "    },\n",
    ")\n",
    "\n",
    "# 데이터 로드\n",
    "docs = loader.load()\n",
    "\n",
    "# 데이터 출력\n",
    "print(docs[1].page_content)"
   ]
  },
  {
   "cell_type": "code",
   "execution_count": null,
   "metadata": {},
   "outputs": [],
   "source": [
    "# XML 변환\n",
    "xml_docs = []\n",
    "for doc in docs[1:]:\n",
    "    row = doc.page_content.split(\"\\n\")\n",
    "    row_str = \"<row>\"\n",
    "    for element in row:\n",
    "        splitted_element = element.split(\":\")\n",
    "        value = splitted_element[-1]\n",
    "        col = \":\".join(splitted_element[:-1])\n",
    "        row_str += f\"<{col}>{value.strip()}</{col}>\"\n",
    "    row_str += \"</row>\"\n",
    "    xml_docs.append(row_str)"
   ]
  },
  {
   "cell_type": "code",
   "execution_count": null,
   "metadata": {},
   "outputs": [],
   "source": [
    "# 리스트를 텍스트 파일에 저장\n",
    "with open(\"./xml_doc.txt\", \"w\") as f:\n",
    "    for item in xml_docs:\n",
    "        f.write(f\"{item}\\n\")"
   ]
  },
  {
   "cell_type": "code",
   "execution_count": null,
   "metadata": {},
   "outputs": [],
   "source": [
    "from langchain_community.document_loaders import TextLoader\n",
    "from langchain_openai.embeddings import OpenAIEmbeddings\n",
    "from langchain.text_splitter import RecursiveCharacterTextSplitter\n",
    "from langchain_chroma import Chroma"
   ]
  },
  {
   "cell_type": "code",
   "execution_count": 16,
   "metadata": {},
   "outputs": [
    {
     "data": {
      "text/plain": [
       "6847"
      ]
     },
     "execution_count": 16,
     "metadata": {},
     "output_type": "execute_result"
    }
   ],
   "source": [
    "# 텍스트 분할\n",
    "text_splitter = RecursiveCharacterTextSplitter(chunk_size=1025, chunk_overlap=50)\n",
    "\n",
    "loader1 = TextLoader(\"./xml_doc.txt\")\n",
    "\n",
    "# 문서 분할\n",
    "split_doc = loader1.load_and_split(text_splitter)\n",
    "\n",
    "# 문서 개수 확인\n",
    "len(split_doc)"
   ]
  },
  {
   "cell_type": "code",
   "execution_count": 18,
   "metadata": {},
   "outputs": [
    {
     "data": {
      "text/plain": [
       "[Document(metadata={'source': './xml_doc.txt'}, page_content='<row><Sequence>1</Sequence><Registration number>167234</Registration number><Announcement name>[인천대학교 창업지원단] 2024년 예비창업패키지 대비 INU 스타트업 아카데미 교육생 모집</Announcement name><Support areas>사업화</Support areas><Region>전국</Region><Target>전체</Target><Target age>전체</Target age><Application period: 2023-12-26 ~ 2024-01-15 23>59</Application period: 2023-12-26 ~ 2024-01-15 23><Entrepreneurial history>예비창업자</Entrepreneurial history><Institution name>국립대학법인 인천대학교</Institution name><Organization classification>교육기관</Organization classification><Department in charge>창업지원단</Department in charge><Announcement number>공고 제231222호</Announcement number><Announcement contents>2024년 예비창업패키지를 준비하는 예비창업자를 발굴하고 지원하고자 참여를 희망하는 예비창업자는 안내에 따라 신청하기 바랍니다.</Announcement contents><Registration date>2023년 12월 26일</Registration date><Announcement registrar name>인천대학교 창업지원단</Announcement registrar name><How to apply work-in></How to apply work-in><How to apply By mail></How to apply By mail><How to apply By Fax></How to apply By Fax><How to apply By'),\n",
       " Document(metadata={'source': './xml_doc.txt'}, page_content='By Fax></How to apply By Fax><How to apply By email>prestartup@inu.ac.kr</How to apply By email><How to apply online></How to apply online><How to apply other></How to apply other><Who to apply for>2024년 예비창업패키지를 준비하는 예비창업자</Who to apply for><Excluded from application></Excluded from application><Summary>[인천대학교 창업지원단] 2024년 예비창업패키지 대비 INU 스타트업 아카데미 교육생 모집  2024년 예비창업패키지를 준비하는 예비창업자를 발굴하고 지원하고자 참여를 희망하는 예비창업자는 안내에 따라 신청하기 바랍니다.</Summary></row>'),\n",
       " Document(metadata={'source': './xml_doc.txt'}, page_content='<row><Sequence>2</Sequence><Registration number>167239</Registration number><Announcement name>2024 판교 생태계 활성화를 위한 글로벌 액셀러레이터 운영 『2024 판교 스타트업 캠퍼스』입주기업 모집 공고</Announcement name><Support areas>시설ㆍ공간ㆍ보육</Support areas><Region>전국</Region><Target>전체</Target><Target age>전체</Target age><Application period: 2024-01-02 ~ 2024-01-22 23>59</Application period: 2024-01-02 ~ 2024-01-22 23><Entrepreneurial history>전체</Entrepreneurial history><Institution name>와이앤아처(주)</Institution name><Organization classification>민간</Organization classification><Department in charge>글로벌전략본부</Department in charge><Announcement number>공고 제240102 - 1호</Announcement number><Announcement contents>경기도경제과학진흥원에서 주관하고 와이앤아처(주)에서 운영하는 “판교 생태계 활성화를 위한 글로벌 액셀러레이터 운영 사업”에 참여할 스타트업을 모집합니다.</Announcement contents><Registration date>2024년 01월 02일</Registration date><Announcement registrar name>와이앤아처(주)</Announcement registrar name><How to apply work-in></How to apply work-in><How to apply By mail></How to apply By mail><How to apply By Fax></How to'),\n",
       " Document(metadata={'source': './xml_doc.txt'}, page_content='to apply By mail><How to apply By Fax></How to apply By Fax><How to apply By email>smart_info@ynarcher.com</How to apply By email><How to apply online></How to apply online><How to apply other></How to apply other><Who to apply for>입주공간 필요 및 글로벌시장 진출을 희망 하는 유망 스타트업</Who to apply for><>- 업종 및 업력 제한 없음</><>- 선발기업은 1개월 기준 출석률 80%이상, 판교 스타트업캠퍼스 상주 필수</><>- 2024년 3월 29일까지 판교 스타트업캠퍼스로 본사 주소지 이전 필수</><>- 개인사업자 및 예비창업자는 3월 내 국내 법인등록을 필수로 진행하여야 함</><Excluded from application>-동 사업 수혜기업</Excluded from application><Summary>2024 판교 생태계 활성화를 위한 글로벌 액셀러레이터 운영 『2024 판교 스타트업 캠퍼스』입주기업 모집 공고  경기도경제과학진흥원에서 주관하고 와이앤아처(주)에서 운영하는 “판교 생태계 활성화를 위한 글로벌 액셀러레이터 운영 사업”에 참여할 스타트업을 모집합니다.</Summary></row>'),\n",
       " Document(metadata={'source': './xml_doc.txt'}, page_content='<row><Sequence>3</Sequence><Registration number>167241</Registration number><Announcement name>2024 숭실대학교 캠퍼스타운 입주기업 모집</Announcement name><Support areas>시설ㆍ공간ㆍ보육</Support areas><Region>서울특별시</Region><Target>대학생, 일반인, 대학, 연구기관, 일반기업, 1인 창조기업</Target><Target age>만 20세 이상 ~ 만 39세 이하</Target age><Application period: 2023-12-22 ~ 2024-01-15 11>00</Application period: 2023-12-22 ~ 2024-01-15 11><Entrepreneurial history>예비창업자, 7년미만</Entrepreneurial history><Institution name>숭실대학교산학협력단</Institution name><Organization classification>교육기관</Organization classification><Department in charge>숭실대학교 캠퍼스타운사업단</Department in charge><Announcement number>공고 제 1호</Announcement number><Announcement contents>숭실대학교 캠퍼스타운에서는 AI+X형 유망 청년 창업기업 발굴 및 캠퍼스타운 입주 연계하여 원활한 창업활동 지원하고 성장가능성이 높은 청년 창업기업에게 공간 및 창업활동비 등을 지원하여 창업성공 도모 및 지역경제 활성화시키고자 이와 같이 모집합니다.</Announcement contents><Registration date>2023년 12월 22일</Registration date><Announcement registrar name>숭실대학교 캠퍼스타운사업단</Announcement registrar name><How to apply work-in></How to apply'),\n",
       " Document(metadata={'source': './xml_doc.txt'}, page_content='name><How to apply work-in></How to apply work-in><How to apply By mail></How to apply By mail><How to apply By Fax></How to apply By Fax><How to apply By email>thdtnqls33@ssu.ac.kr</How to apply By email><How to apply online></How to apply online><How to apply other></How to apply other><Who to apply for>아래의 조건을 모두 충족해야 신청 가능</Who to apply for><></><>1. AI+X 특화분야 및 플랫폼 분야 등의 우수기술 보유 창업기업</><>2. 창업 업력 7년 미만의 청년창업기업</><- 업력>사업자등록증의 개업연월일부터 공고일(2023.12.22.)까지의 창업기간 기준</- 업력><- 청년창업기업>공고일 기준 대표자 연령이 만 39세 미만인 창업기업</- 청년창업기업><>※ 단, 기술기반 및 실험실 창업 활성화를 위하여 교원창업에 해당하는 경우 대표자 연령 무관</><>※ 교원창업의 경우 소속대학의 규정에 따라 교원창업으로 인정되어야 함</><></><>※ 예비창업자의 경우 입주 후 2개월 이내 숭실대학교 캠퍼스타운으로 사업자등록 완료</><>※ 창업기업의 경우 입주 후 2개월 이내 숭실대학교 캠퍼스타운으로 사업자등록 이전 필수</><>※ 위 조건을 이행하지 않을 시 입주 후에도 퇴거조치함</><Excluded from application>위 자격요건에 부합하지 않을 경우 신청 불가</Excluded from application><Summary>2024 숭실대학교 캠퍼스타운 입주기업 모집  숭실대학교 캠퍼스타운에서는 AI+X형 유망 청년 창업기업 발굴 및 캠퍼스타운 입주 연계하여 원활한 창업활동 지원하고 성장가능성이 높은 청년 창업기업에게 공간 및 창업활동비 등을 지원하여 창업성공 도모 및 지역경제 활성화시키고자 이와 같이'),\n",
       " Document(metadata={'source': './xml_doc.txt'}, page_content='공간 및 창업활동비 등을 지원하여 창업성공 도모 및 지역경제 활성화시키고자 이와 같이 모집합니다.</Summary></row>'),\n",
       " Document(metadata={'source': './xml_doc.txt'}, page_content='<row><Sequence>4</Sequence><Registration number>167248</Registration number><Announcement name>[공문 제2023-0185호] 제 18회 초기창업을 위한 벤처인증 지원사업 설명회 모집 공고</Announcement name><Support areas>멘토링ㆍ컨설팅ㆍ교육</Support areas><Region>전국</Region><Target>대학생, 일반인, 대학, 연구기관, 일반기업, 1인 창조기업</Target><Target age>전체</Target age><Application period: 2023-12-29 ~ 2024-01-05 17>00</Application period: 2023-12-29 ~ 2024-01-05 17><Entrepreneurial history>전체</Entrepreneurial history><Institution name>(사)한국중소기업발전협회</Institution name><Organization classification>민간</Organization classification><Department in charge>경영지원</Department in charge><Announcement number>공문 제2023-0185호</Announcement number><Announcement contents>혁신형 기술 아이디어를 가진 초기창업기업에게 벤처인증 전략을 제공하고자 제18회 초기창업기업을 위한 벤처인증 지원사업 설명회를 다음과 같이 공고하오니,</Announcement contents><>사업에 참여하고자 하는 대표님께서는 안내에 따라 신청하시기 바랍니다.</><Registration date>2023년 12월 27일</Registration date><Announcement registrar name>한국중소기업발전협회</Announcement registrar name><How to apply work-in></How to apply work-in><How to'),\n",
       " Document(metadata={'source': './xml_doc.txt'}, page_content='to apply work-in></How to apply work-in><How to apply By mail></How to apply By mail><How to apply By Fax></How to apply By Fax><How to apply By email>manager@ceo-korea.org</How to apply By email><How to apply online></How to apply online><How to apply other></How to apply other><Who to apply for>1) 한국중소기업발전협회 회원가입 기업 (무료)</Who to apply for><>2) 초기창업기업 (창업 3년 이내)</><Excluded from application></Excluded from application><Summary>[공문 제2023-0185호] 제 18회 초기창업을 위한 벤처인증 지원사업 설명회 모집 공고  혁신형 기술 아이디어를 가진 초기창업기업에게 벤처인증 전략을 제공하고자 제18회 초기창업기업을 위한 벤처인증 지원사업 설명회를 다음과 같이 공고하오니,</Summary><>사업에 참여하고자 하는 대표님께서는 안내에 따라 신청하시기 바랍니다.</></row>'),\n",
       " Document(metadata={'source': './xml_doc.txt'}, page_content='<row><Sequence>5</Sequence><Registration number>167249</Registration number><Announcement name>2024년 대전광역시 서구 청년창업지원센터 입주기업 2차모집</Announcement name><Support areas>시설ㆍ공간ㆍ보육</Support areas><Region>대전광역시</Region><Target>대학생, 일반인, 일반기업, 1인 창조기업</Target><Target age>만 20세 이상 ~ 만 39세 이하</Target age><Application period: 2023-12-28 ~ 2024-01-14 23>59</Application period: 2023-12-28 ~ 2024-01-14 23><Entrepreneurial history>예비창업자, 3년미만</Entrepreneurial history><Institution name>목원대학교 산학협력단</Institution name><Organization classification>교육기관</Organization classification><Department in charge>대전광역시 서구 청년창업지원센터</Department in charge><Announcement number></Announcement number><Announcement contents>대전광역시 서구 청년창업지원센터에서 청년 창업의 꿈을 펼칠 청년 창업가를 모집하오니 많은 지원 부탁드립니다.</Announcement contents><Registration date>2023년 12월 28일</Registration date><Announcement registrar name>대전광역시 서구 청년창업지원센터</Announcement registrar name><How to apply work-in></How to apply work-in><How to apply By mail></How to apply By mail><How to apply By Fax></How to')]"
      ]
     },
     "execution_count": 18,
     "metadata": {},
     "output_type": "execute_result"
    }
   ],
   "source": [
    "split_doc[:10]"
   ]
  },
  {
   "cell_type": "code",
   "execution_count": null,
   "metadata": {},
   "outputs": [],
   "source": [
    "from langchain.retrievers import BM25Retriever, EnsembleRetriever\n",
    "from langchain.vectorstores import FAISS\n",
    "from langchain_openai import OpenAIEmbeddings\n",
    "\n",
    "embeddings = OpenAIEmbeddings(model=\"text-embedding-3-small\")\n",
    "faiss_vectorstore = FAISS.from_documents(documents=split_doc, embedding=embeddings)\n"
   ]
  },
  {
   "cell_type": "code",
   "execution_count": null,
   "metadata": {},
   "outputs": [],
   "source": [
    "# FAISS index 저장\n",
    "faiss_vectorstore.save_local(\"./faisss_index\")"
   ]
  },
  {
   "cell_type": "code",
   "execution_count": 27,
   "metadata": {},
   "outputs": [],
   "source": [
    "# FAISS index 불러오기\n",
    "faiss_index_path=\"./faisss_index\"\n",
    "faiss_db = FAISS.load_local(faiss_index_path, embeddings, allow_dangerous_deserialization=True)"
   ]
  },
  {
   "cell_type": "code",
   "execution_count": null,
   "metadata": {},
   "outputs": [],
   "source": [
    "query1 = \"나는 서울에 살고있어.. 창업을 할려고 하는데 어떤 지원을 받을 수 있을까\"\n",
    "query2 = \"예비창업패키지에 대해 설명해줘\"\n",
    "#result = faiss_vectorstore.similarity_search(query1, k=3)\n",
    "result = faiss_db.similarity_search(query2, k=3)\n",
    "print(result)"
   ]
  },
  {
   "cell_type": "code",
   "execution_count": null,
   "metadata": {},
   "outputs": [],
   "source": [
    "# DB 생성\n",
    "db = Chroma.from_documents(\n",
    "    documents=split_doc,\n",
    "    embedding=OpenAIEmbeddings(model=\"text-embedding-3-small\"),\n",
    "    collection_name=\"my_db\",\n",
    ")"
   ]
  },
  {
   "cell_type": "code",
   "execution_count": null,
   "metadata": {},
   "outputs": [],
   "source": [
    "# 저장할 경로 지정\n",
    "DB_PATH = \"./chroma_db\"\n",
    "\n",
    "# 문서를 디스크에 저장합니다. 저장시 persist_directory에 저장할 경로를 지정합니다.\n",
    "persist_db = Chroma.from_documents(\n",
    "    split_doc,\n",
    "    OpenAIEmbeddings(model=\"text-embedding-3-small\"),\n",
    "    persist_directory=DB_PATH,\n",
    "    collection_name=\"my_db\",\n",
    ")"
   ]
  },
  {
   "cell_type": "code",
   "execution_count": null,
   "metadata": {},
   "outputs": [],
   "source": [
    "# db에 저장된 데이터 불러오기\n",
    "persist_db = Chroma(\n",
    "    embedding_function=OpenAIEmbeddings(model=\"text-embedding-3-small\"),\n",
    "    collection_name=\"my_db\",\n",
    "    persist_directory=\"./chroma_db\",\n",
    ")\n",
    "\n",
    "print(f\"데이터베이스 크기: {persist_db._collection.count()}\")"
   ]
  },
  {
   "cell_type": "code",
   "execution_count": null,
   "metadata": {},
   "outputs": [],
   "source": [
    "persist_db.get()"
   ]
  },
  {
   "cell_type": "code",
   "execution_count": null,
   "metadata": {},
   "outputs": [],
   "source": [
    "persist_db.similarity_search(\n",
    "    \"나는 서울에 살고있어.. 창업을 할려고 하는데 어떤 지원을 받을 수 있을까\"\n",
    ")"
   ]
  },
  {
   "cell_type": "markdown",
   "metadata": {},
   "source": [
    "`k` 값에 검색 결과의 개수를 지정할 수 있습니다."
   ]
  },
  {
   "cell_type": "code",
   "execution_count": null,
   "metadata": {},
   "outputs": [],
   "source": [
    "persist_db.similarity_search(\"예비창업패키지 공고 알려줘\", k=2)"
   ]
  },
  {
   "cell_type": "markdown",
   "metadata": {},
   "source": [
    "`filter` 에 `metadata` 정보를 활용하여 검색 결과를 필터링 할 수 있습니다."
   ]
  },
  {
   "cell_type": "code",
   "execution_count": null,
   "metadata": {},
   "outputs": [],
   "source": [
    "# filter 사용\n",
    "db.similarity_search(\n",
    "    \"TF IDF 에 대하여 알려줘\", filter={\"source\": \"data/nlp-keywords.txt\"}, k=2\n",
    ")"
   ]
  },
  {
   "cell_type": "markdown",
   "metadata": {},
   "source": [
    "다음은 `filter` 에서 다른 `source` 를 사용하여 검색한 결과를 확인합니다."
   ]
  },
  {
   "cell_type": "code",
   "execution_count": null,
   "metadata": {},
   "outputs": [],
   "source": [
    "# filter 사용\n",
    "db.similarity_search(\n",
    "    \"TF IDF 에 대하여 알려줘\", filter={\"source\": \"data/finance-keywords.txt\"}, k=2\n",
    ")"
   ]
  },
  {
   "cell_type": "markdown",
   "metadata": {},
   "source": [
    "### 벡터 저장소에 문서 추가\n",
    "\n",
    "`add_documents` 메서드는 벡터 저장소에 문서를 추가하거나 업데이트합니다.\n",
    "\n",
    "**매개변수**\n",
    "\n",
    "- `documents` (List[Document]): 벡터 저장소에 추가할 문서 리스트\n",
    "- `**kwargs`: 추가 키워드 인자\n",
    "  - `ids`: 문서 ID 리스트 (제공 시 문서의 ID보다 우선함)\n",
    "\n",
    "**참고**\n",
    "\n",
    "- `add_texts` 메서드가 구현되어 있어야 합니다.\n",
    "- 문서의 `page_content`는 텍스트로, `metadata`는 메타데이터로 사용됩니다.\n",
    "- 문서에 ID가 있고 `kwargs`에 ID가 제공되지 않으면 문서의 ID가 사용됩니다.\n",
    "- `kwargs`의 ID와 문서 수가 일치하지 않으면 ValueError가 발생합니다.\n",
    "\n",
    "**반환값**\n",
    "\n",
    "- `List[str]`: 추가된 텍스트의 ID 리스트\n",
    "\n",
    "**예외**\n",
    "\n",
    "- `NotImplementedError`: `add_texts` 메서드가 구현되지 않은 경우 발생"
   ]
  },
  {
   "cell_type": "code",
   "execution_count": null,
   "metadata": {},
   "outputs": [],
   "source": [
    "from langchain_core.documents import Document\n",
    "\n",
    "# page_content, metadata, id 지정\n",
    "db.add_documents(\n",
    "    [\n",
    "        Document(\n",
    "            page_content=\"안녕하세요! 이번엔 도큐먼트를 새로 추가해 볼께요\",\n",
    "            metadata={\"source\": \"mydata.txt\"},\n",
    "            id=\"1\",\n",
    "        )\n",
    "    ]\n",
    ")"
   ]
  },
  {
   "cell_type": "code",
   "execution_count": null,
   "metadata": {},
   "outputs": [],
   "source": [
    "# id=1 로 문서 조회\n",
    "db.get(\"1\")"
   ]
  },
  {
   "cell_type": "markdown",
   "metadata": {},
   "source": [
    "`add_texts` 메서드는 텍스트를 임베딩하고 벡터 저장소에 추가합니다.\n",
    "\n",
    "**매개변수**\n",
    "\n",
    "- `texts` (Iterable[str]): 벡터 저장소에 추가할 텍스트 리스트\n",
    "- `metadatas` (Optional[List[dict]]): 메타데이터 리스트. 기본값은 None\n",
    "- `ids` (Optional[List[str]]): 문서 ID 리스트. 기본값은 None\n",
    "\n",
    "**참고**\n",
    "\n",
    "- `ids`가 제공되지 않으면 UUID를 사용하여 자동으로 생성됩니다.\n",
    "- 임베딩 함수가 설정되어 있으면 텍스트를 임베딩합니다.\n",
    "- 메타데이터가 제공된 경우:\n",
    "  - 메타데이터가 있는 텍스트와 없는 텍스트를 분리하여 처리합니다.\n",
    "  - 메타데이터가 없는 텍스트의 경우 빈 딕셔너리로 채웁니다.\n",
    "- 컬렉션에 upsert 작업을 수행하여 텍스트, 임베딩, 메타데이터를 추가합니다.\n",
    "\n",
    "**반환값**\n",
    "\n",
    "- `List[str]`: 추가된 텍스트의 ID 리스트\n",
    "\n",
    "**예외**\n",
    "\n",
    "- `ValueError`: 복잡한 메타데이터로 인한 오류 발생 시, 필터링 방법 안내 메시지와 함께 발생"
   ]
  },
  {
   "cell_type": "markdown",
   "metadata": {},
   "source": [
    "기존의 아이디에 추가하는 경우 `upsert` 가 수행되며, 기존의 문서는 대체됩니다."
   ]
  },
  {
   "cell_type": "code",
   "execution_count": null,
   "metadata": {},
   "outputs": [],
   "source": [
    "# 신규 데이터를 추가합니다. 이때 기존의 id=1 의 데이터는 덮어쓰게 됩니다.\n",
    "db.add_texts(\n",
    "    [\"이전에 추가한 Document 를 덮어쓰겠습니다.\", \"덮어쓴 결과가 어떤가요?\"],\n",
    "    metadatas=[{\"source\": \"mydata.txt\"}, {\"source\": \"mydata.txt\"}],\n",
    "    ids=[\"1\", \"2\"],\n",
    ")"
   ]
  },
  {
   "cell_type": "code",
   "execution_count": null,
   "metadata": {},
   "outputs": [],
   "source": [
    "# id=1 조회\n",
    "db.get([\"1\"])"
   ]
  },
  {
   "cell_type": "markdown",
   "metadata": {},
   "source": [
    "### 벡터 저장소에서 문서 삭제\n",
    "\n",
    "`delete` 메서드는 벡터 저장소에서 지정된 ID의 문서를 삭제합니다.\n",
    "\n",
    "**매개변수**\n",
    "\n",
    "- `ids` (Optional[List[str]]): 삭제할 문서의 ID 리스트. 기본값은 None\n",
    "\n",
    "**참고**\n",
    "\n",
    "- 이 메서드는 내부적으로 컬렉션의 `delete` 메서드를 호출합니다.\n",
    "- `ids`가 None이면 아무 작업도 수행하지 않습니다.\n",
    "\n",
    "**반환값**\n",
    "\n",
    "- None"
   ]
  },
  {
   "cell_type": "code",
   "execution_count": null,
   "metadata": {},
   "outputs": [],
   "source": [
    "# id 1 삭제\n",
    "db.delete(ids=[\"1\"])"
   ]
  },
  {
   "cell_type": "code",
   "execution_count": null,
   "metadata": {},
   "outputs": [],
   "source": [
    "# 문서 조회\n",
    "db.get([\"1\", \"2\"])"
   ]
  },
  {
   "cell_type": "code",
   "execution_count": null,
   "metadata": {},
   "outputs": [],
   "source": [
    "# where 조건으로 metadata 조회\n",
    "db.get(where={\"source\": \"mydata.txt\"})"
   ]
  },
  {
   "cell_type": "markdown",
   "metadata": {},
   "source": [
    "### 초기화(reset_collection)\n",
    "\n",
    "`reset_collection` 메서드는 벡터 저장소의 컬렉션을 초기화합니다.\n"
   ]
  },
  {
   "cell_type": "code",
   "execution_count": null,
   "metadata": {},
   "outputs": [],
   "source": [
    "# 컬렉션 초기화\n",
    "db.reset_collection()"
   ]
  },
  {
   "cell_type": "code",
   "execution_count": null,
   "metadata": {},
   "outputs": [],
   "source": [
    "# 초기화 후 문서 조회\n",
    "db.get()"
   ]
  },
  {
   "cell_type": "markdown",
   "metadata": {},
   "source": [
    "### 벡터 저장소를 검색기(Retriever)로 변환\n",
    "\n",
    "`as_retriever` 메서드는 벡터 저장소를 기반으로 VectorStoreRetriever를 생성합니다.\n",
    "\n",
    "**매개변수**\n",
    "\n",
    "- `**kwargs`: 검색 함수에 전달할 키워드 인자\n",
    "  - `search_type` (Optional[str]): 검색 유형 (`\"similarity\"`, `\"mmr\"`, `\"similarity_score_threshold\"`)\n",
    "  - `search_kwargs` (Optional[Dict]): 검색 함수에 전달할 추가 인자\n",
    "    - `k`: 반환할 문서 수 (기본값: 4)\n",
    "    - `score_threshold`: 최소 유사도 임계값\n",
    "    - `fetch_k`: MMR 알고리즘에 전달할 문서 수 (기본값: 20)\n",
    "    - `lambda_mult`: MMR 결과의 다양성 조절 (0~1, 기본값: 0.5)\n",
    "    - `filter`: 문서 메타데이터 필터링\n",
    "\n",
    "**반환값**\n",
    "\n",
    "- `VectorStoreRetriever`: 벡터 저장소 기반 검색기 인스턴스"
   ]
  },
  {
   "cell_type": "markdown",
   "metadata": {},
   "source": [
    "`DB` 를 생성합니다."
   ]
  },
  {
   "cell_type": "code",
   "execution_count": null,
   "metadata": {},
   "outputs": [],
   "source": [
    "# DB 생성\n",
    "db = Chroma.from_documents(\n",
    "    documents=split_doc1 + split_doc2,\n",
    "    embedding=OpenAIEmbeddings(),\n",
    "    collection_name=\"nlp\",\n",
    ")"
   ]
  },
  {
   "cell_type": "markdown",
   "metadata": {},
   "source": [
    "기본 값으로 설정된 4개 문서를 유사도 검색을 수행하여 조회합니다."
   ]
  },
  {
   "cell_type": "code",
   "execution_count": null,
   "metadata": {},
   "outputs": [],
   "source": [
    "retriever = db.as_retriever()\n",
    "retriever.invoke(\"Word2Vec 에 대하여 알려줘\")"
   ]
  },
  {
   "cell_type": "markdown",
   "metadata": {},
   "source": [
    "다양성이 높은 더 많은 문서 검색\n",
    "\n",
    "- `k`: 반환할 문서 수 (기본값: 4)\n",
    "- `fetch_k`: MMR 알고리즘에 전달할 문서 수 (기본값: 20)\n",
    "- `lambda_mult`: MMR 결과의 다양성 조절 (0~1, 기본값: 0.5, 0: 유사도 점수만 고려, 1: 다양성만 고려)"
   ]
  },
  {
   "cell_type": "code",
   "execution_count": null,
   "metadata": {},
   "outputs": [],
   "source": [
    "retriever = db.as_retriever(\n",
    "    search_type=\"mmr\", search_kwargs={\"k\": 6, \"lambda_mult\": 0.25, \"fetch_k\": 10}\n",
    ")\n",
    "retriever.invoke(\"Word2Vec 에 대하여 알려줘\")"
   ]
  },
  {
   "cell_type": "markdown",
   "metadata": {},
   "source": [
    "MMR 알고리즘을 위해 더 많은 문서를 가져오되 상위 2개만 반환"
   ]
  },
  {
   "cell_type": "code",
   "execution_count": null,
   "metadata": {},
   "outputs": [],
   "source": [
    "retriever = db.as_retriever(search_type=\"mmr\", search_kwargs={\"k\": 2, \"fetch_k\": 10})\n",
    "retriever.invoke(\"Word2Vec 에 대하여 알려줘\")"
   ]
  },
  {
   "cell_type": "markdown",
   "metadata": {},
   "source": [
    "특정 임계값 이상의 유사도를 가진 문서만 검색"
   ]
  },
  {
   "cell_type": "code",
   "execution_count": null,
   "metadata": {},
   "outputs": [],
   "source": [
    "retriever = db.as_retriever(\n",
    "    search_type=\"similarity_score_threshold\", search_kwargs={\"score_threshold\": 0.8}\n",
    ")\n",
    "\n",
    "retriever.invoke(\"Word2Vec 에 대하여 알려줘\")"
   ]
  },
  {
   "cell_type": "markdown",
   "metadata": {},
   "source": [
    "가장 유사한 단일 문서만 검색"
   ]
  },
  {
   "cell_type": "code",
   "execution_count": null,
   "metadata": {},
   "outputs": [],
   "source": [
    "retriever = db.as_retriever(search_kwargs={\"k\": 1})\n",
    "\n",
    "retriever.invoke(\"Word2Vec 에 대하여 알려줘\")"
   ]
  },
  {
   "cell_type": "markdown",
   "metadata": {},
   "source": [
    "특정 메타데이터 필터 적용"
   ]
  },
  {
   "cell_type": "code",
   "execution_count": null,
   "metadata": {},
   "outputs": [],
   "source": [
    "retriever = db.as_retriever(\n",
    "    search_kwargs={\"filter\": {\"source\": \"data/finance-keywords.txt\"}, \"k\": 2}\n",
    ")\n",
    "retriever.invoke(\"ESG 에 대하여 알려줘\")"
   ]
  },
  {
   "cell_type": "markdown",
   "metadata": {},
   "source": [
    "## 멀티모달 검색\n",
    "\n",
    "Chroma는 멀티모달 컬렉션, 즉 여러 양식의 데이터를 포함하고 쿼리할 수 있는 컬렉션을 지원합니다."
   ]
  },
  {
   "cell_type": "markdown",
   "metadata": {},
   "source": [
    "## 데이터 세트\n",
    "\n",
    "허깅페이스에서 호스팅되는 [coco object detection dataset](https://huggingface.co/datasets/detection-datasets/coco)의 작은 하위 집합을 사용합니다.\n",
    "\n",
    "데이터 세트의 모든 이미지 중 일부만 로컬로 다운로드하고 이를 사용하여 멀티모달 컬렉션을 생성합니다."
   ]
  },
  {
   "cell_type": "code",
   "execution_count": null,
   "metadata": {},
   "outputs": [],
   "source": [
    "import os\n",
    "from datasets import load_dataset\n",
    "from matplotlib import pyplot as plt\n",
    "\n",
    "# COCO 데이터셋 로드\n",
    "dataset = load_dataset(\n",
    "    path=\"detection-datasets/coco\", name=\"default\", split=\"train\", streaming=True\n",
    ")\n",
    "\n",
    "# 이미지 저장 폴더와 이미지 개수 설정\n",
    "IMAGE_FOLDER = \"tmp\"\n",
    "N_IMAGES = 20\n",
    "\n",
    "# 그래프 플로팅을 위한 설정\n",
    "plot_cols = 5\n",
    "plot_rows = N_IMAGES // plot_cols\n",
    "fig, axes = plt.subplots(plot_rows, plot_cols, figsize=(plot_rows * 2, plot_cols * 2))\n",
    "axes = axes.flatten()\n",
    "\n",
    "# 이미지를 폴더에 저장하고 그래프에 표시\n",
    "dataset_iter = iter(dataset)\n",
    "os.makedirs(IMAGE_FOLDER, exist_ok=True)\n",
    "for i in range(N_IMAGES):\n",
    "    # 데이터셋에서 이미지와 레이블 추출\n",
    "    data = next(dataset_iter)\n",
    "    image = data[\"image\"]\n",
    "    label = data[\"objects\"][\"category\"][0]  # 첫 번째 객체의 카테고리를 레이블로 사용\n",
    "\n",
    "    # 그래프에 이미지 표시 및 레이블 추가\n",
    "    axes[i].imshow(image)\n",
    "    axes[i].set_title(label, fontsize=8)\n",
    "    axes[i].axis(\"off\")\n",
    "\n",
    "    # 이미지 파일로 저장\n",
    "    image.save(f\"{IMAGE_FOLDER}/{i}.jpg\")\n",
    "\n",
    "# 그래프 레이아웃 조정 및 표시\n",
    "plt.tight_layout()\n",
    "plt.show()"
   ]
  },
  {
   "cell_type": "markdown",
   "metadata": {},
   "source": [
    "![](./images/chroma-01.png)"
   ]
  },
  {
   "cell_type": "markdown",
   "metadata": {},
   "source": [
    "### Multimodal Embeddings\n",
    "\n",
    "Multimodal Embeddings 을 활용하여 이미지, 텍스트에 대한 Embedding 을 생성합니다.\n",
    "\n",
    "이번 튜토리얼에서는 OpenClipEmbeddingFunction 을 사용하여 이미지를 임베딩합니다.\n",
    "\n",
    "- [OpenCLIP](https://github.com/mlfoundations/open_clip/tree/main)"
   ]
  },
  {
   "cell_type": "markdown",
   "metadata": {},
   "source": [
    "### Model 벤치마크\n",
    "\n",
    "| Model                              | Training data  | Resolution | # of samples seen | ImageNet zero-shot acc. |\n",
    "|------------------------------------|----------------|------------|-------------------|-------------------------|\n",
    "| ConvNext-Base                       | LAION-2B       | 256px      | 13B               | 71.5%                   |\n",
    "| ConvNext-Large                      | LAION-2B       | 320px      | 29B               | 76.9%                   |\n",
    "| ConvNext-XXLarge                    | LAION-2B       | 256px      | 34B               | 79.5%                   |\n",
    "| ViT-B/32                            | DataComp-1B    | 256px      | 34B               | 72.8%                   |\n",
    "| ViT-B/16                            | DataComp-1B    | 224px      | 13B               | 73.5%                   |\n",
    "| ViT-L/14                            | LAION-2B       | 224px      | 32B               | 75.3%                   |\n",
    "| ViT-H/14                            | LAION-2B       | 224px      | 32B               | 78.0%                   |\n",
    "| ViT-L/14                            | DataComp-1B    | 224px      | 13B               | 79.2%                   |\n",
    "| ViT-G/14                            | LAION-2B       | 224px      | 34B               | 80.1%                   |\n",
    "| ViT-L/14 ([Original CLIP](https://openai.com/research/clip)) | WIT            | 224px      | 13B               | 75.5%                   |\n",
    "| ViT-SO400M/14 ([SigLIP](https://github.com/mlfoundations/open_clip)) | WebLI | 224px | 45B | 82.0% |\n",
    "| ViT-SO400M-14-SigLIP-384 ([SigLIP](https://github.com/mlfoundations/open_clip)) | WebLI | 384px | 45B | 83.1% |\n",
    "| ViT-H/14-quickgelu ([DFN](https://www.deeplearning.ai/glossary/neural-networks/)) | DFN-5B | 224px | 39B | 83.4% |\n",
    "| ViT-H-14-378-quickgelu ([DFN](https://www.deeplearning.ai/glossary/neural-networks/)) | DFN-5B | 378px | 44B | 84.4% |\n"
   ]
  },
  {
   "cell_type": "markdown",
   "metadata": {},
   "source": [
    "아래의 예시에서 `model_name` 과 `checkpoint` 를 설정하여 사용합니다.\n",
    "\n",
    "- `model_name`: OpenCLIP 모델명\n",
    "- `checkpoint`: OpenCLIP 모델의 `Training data` 에 해당하는 이름"
   ]
  },
  {
   "cell_type": "code",
   "execution_count": null,
   "metadata": {},
   "outputs": [],
   "source": [
    "import open_clip\n",
    "import pandas as pd\n",
    "\n",
    "# 사용 가능한 모델/Checkpoint 를 출력\n",
    "pd.DataFrame(open_clip.list_pretrained(), columns=[\"model_name\", \"checkpoint\"]).head(10)"
   ]
  },
  {
   "cell_type": "code",
   "execution_count": null,
   "metadata": {},
   "outputs": [],
   "source": [
    "from langchain_experimental.open_clip import OpenCLIPEmbeddings\n",
    "\n",
    "# OpenCLIP 임베딩 함수 객체 생성\n",
    "image_embedding_function = OpenCLIPEmbeddings(\n",
    "    model_name=\"ViT-H-14-378-quickgelu\", checkpoint=\"dfn5b\"\n",
    ")"
   ]
  },
  {
   "cell_type": "markdown",
   "metadata": {},
   "source": [
    "이미지의 경로를 list 로 저장합니다."
   ]
  },
  {
   "cell_type": "code",
   "execution_count": null,
   "metadata": {},
   "outputs": [],
   "source": [
    "# 이미지의 경로를 리스트로 저장\n",
    "image_uris = sorted(\n",
    "    [\n",
    "        os.path.join(\"tmp\", image_name)\n",
    "        for image_name in os.listdir(\"tmp\")\n",
    "        if image_name.endswith(\".jpg\")\n",
    "    ]\n",
    ")\n",
    "\n",
    "image_uris"
   ]
  },
  {
   "cell_type": "code",
   "execution_count": null,
   "metadata": {},
   "outputs": [],
   "source": [
    "from langchain_teddynote.models import MultiModal\n",
    "from langchain_openai import ChatOpenAI\n",
    "\n",
    "# ChatOpenAI 모델 초기화\n",
    "llm = ChatOpenAI(model=\"gpt-4o-mini\")\n",
    "\n",
    "# MultiModal 모델 설정\n",
    "model = MultiModal(\n",
    "    model=llm,\n",
    "    system_prompt=\"Your mission is to describe the image in detail\",  # 시스템 프롬프트: 이미지를 상세히 설명하도록 지시\n",
    "    user_prompt=\"Description should be written in one sentence(less than 60 characters)\",  # 사용자 프롬프트: 60자 이내의 한 문장으로 설명 요청\n",
    ")"
   ]
  },
  {
   "cell_type": "markdown",
   "metadata": {},
   "source": [
    "image 에 대한 description 을 생성합니다."
   ]
  },
  {
   "cell_type": "code",
   "execution_count": null,
   "metadata": {},
   "outputs": [],
   "source": [
    "# 이미지 설명 생성\n",
    "model.invoke(image_uris[0])"
   ]
  },
  {
   "cell_type": "markdown",
   "metadata": {},
   "source": [
    "![](./images/chroma-02.png)"
   ]
  },
  {
   "cell_type": "code",
   "execution_count": null,
   "metadata": {},
   "outputs": [],
   "source": [
    "# 이미지 설명\n",
    "descriptions = dict()\n",
    "\n",
    "for image_uri in image_uris:\n",
    "    descriptions[image_uri] = model.invoke(image_uri, display_image=False)\n",
    "\n",
    "# 생성된 결과물 출력\n",
    "descriptions"
   ]
  },
  {
   "cell_type": "code",
   "execution_count": null,
   "metadata": {},
   "outputs": [],
   "source": [
    "import os\n",
    "from PIL import Image\n",
    "import matplotlib.pyplot as plt\n",
    "\n",
    "# 원본 이미지, 처리된 이미지, 텍스트 설명을 저장할 리스트 초기화\n",
    "original_images = []\n",
    "images = []\n",
    "texts = []\n",
    "\n",
    "# 그래프 크기 설정 (20x10 인치)\n",
    "plt.figure(figsize=(20, 10))\n",
    "\n",
    "# 'tmp' 디렉토리에 저장된 이미지 파일들을 처리\n",
    "for i, image_uri in enumerate(image_uris):\n",
    "    # 이미지 파일 열기 및 RGB 모드로 변환\n",
    "    image = Image.open(image_uri).convert(\"RGB\")\n",
    "\n",
    "    # 4x5 그리드의 서브플롯 생성\n",
    "    plt.subplot(4, 5, i + 1)\n",
    "\n",
    "    # 이미지 표시\n",
    "    plt.imshow(image)\n",
    "\n",
    "    # 이미지 파일명과 설명을 제목으로 설정\n",
    "    plt.title(f\"{os.path.basename(image_uri)}\\n{descriptions[image_uri]}\", fontsize=8)\n",
    "\n",
    "    # x축과 y축의 눈금 제거\n",
    "    plt.xticks([])\n",
    "    plt.yticks([])\n",
    "\n",
    "    # 원본 이미지, 처리된 이미지, 텍스트 설명을 각 리스트에 추가\n",
    "    original_images.append(image)\n",
    "    images.append(image)\n",
    "    texts.append(descriptions[image_uri])\n",
    "\n",
    "# 서브플롯 간 간격 조정\n",
    "plt.tight_layout()"
   ]
  },
  {
   "cell_type": "markdown",
   "metadata": {},
   "source": [
    "![](./images/chroma-03.png)"
   ]
  },
  {
   "cell_type": "markdown",
   "metadata": {},
   "source": [
    "아래는 생성한 이미지 description 과 텍스트 간의 유사도를 계산합니다."
   ]
  },
  {
   "cell_type": "code",
   "execution_count": null,
   "metadata": {},
   "outputs": [],
   "source": [
    "import numpy as np\n",
    "\n",
    "# 이미지와 텍스트 임베딩\n",
    "# 이미지 URI를 사용하여 이미지 특징 추출\n",
    "img_features = image_embedding_function.embed_image(image_uris)\n",
    "# 텍스트 설명에 \"This is\" 접두사를 추가하고 텍스트 특징 추출\n",
    "text_features = image_embedding_function.embed_documents(\n",
    "    [\"This is \" + desc for desc in texts]\n",
    ")\n",
    "\n",
    "# 행렬 연산을 위해 리스트를 numpy 배열로 변환\n",
    "img_features_np = np.array(img_features)\n",
    "text_features_np = np.array(text_features)\n",
    "\n",
    "# 유사도 계산\n",
    "# 텍스트와 이미지 특징 간의 코사인 유사도를 계산\n",
    "similarity = np.matmul(text_features_np, img_features_np.T)"
   ]
  },
  {
   "cell_type": "markdown",
   "metadata": {},
   "source": [
    "텍스트 대 이미지 description 간 유사도를 구하고 시각화합니다."
   ]
  },
  {
   "cell_type": "code",
   "execution_count": null,
   "metadata": {},
   "outputs": [],
   "source": [
    "# 유사도 행렬을 시각화하기 위한 플롯 생성\n",
    "count = len(descriptions)\n",
    "plt.figure(figsize=(20, 14))\n",
    "\n",
    "# 유사도 행렬을 히트맵으로 표시\n",
    "plt.imshow(similarity, vmin=0.1, vmax=0.3, cmap=\"coolwarm\")\n",
    "plt.colorbar()  # 컬러바 추가\n",
    "\n",
    "# y축에 텍스트 설명 표시\n",
    "plt.yticks(range(count), texts, fontsize=18)\n",
    "plt.xticks([])  # x축 눈금 제거\n",
    "\n",
    "# 원본 이미지를 x축 아래에 표시\n",
    "for i, image in enumerate(original_images):\n",
    "    plt.imshow(image, extent=(i - 0.5, i + 0.5, -1.6, -0.6), origin=\"lower\")\n",
    "\n",
    "# 유사도 값을 히트맵 위에 텍스트로 표시\n",
    "for x in range(similarity.shape[1]):\n",
    "    for y in range(similarity.shape[0]):\n",
    "        plt.text(x, y, f\"{similarity[y, x]:.2f}\", ha=\"center\", va=\"center\", size=12)\n",
    "\n",
    "# 플롯 테두리 제거\n",
    "for side in [\"left\", \"top\", \"right\", \"bottom\"]:\n",
    "    plt.gca().spines[side].set_visible(False)\n",
    "\n",
    "# 플롯 범위 설정\n",
    "plt.xlim([-0.5, count - 0.5])\n",
    "plt.ylim([count + 0.5, -2])\n",
    "\n",
    "# 제목 추가\n",
    "plt.title(\"Cosine Similarity\", size=20)"
   ]
  },
  {
   "cell_type": "markdown",
   "metadata": {},
   "source": [
    "![](./images/chroma-04.png)"
   ]
  },
  {
   "cell_type": "markdown",
   "metadata": {},
   "source": [
    "### Vectorstore 생성 및 이미지 추가"
   ]
  },
  {
   "cell_type": "markdown",
   "metadata": {},
   "source": [
    "Vectorstore 를 생성하고 이미지를 추가합니다."
   ]
  },
  {
   "cell_type": "code",
   "execution_count": null,
   "metadata": {},
   "outputs": [],
   "source": [
    "# DB 생성\n",
    "image_db = Chroma(\n",
    "    collection_name=\"multimodal\",\n",
    "    embedding_function=image_embedding_function,\n",
    ")\n",
    "\n",
    "# 이미지 추가\n",
    "image_db.add_images(uris=image_uris)"
   ]
  },
  {
   "cell_type": "markdown",
   "metadata": {},
   "source": [
    "아래는 이미지 검색된 결과를 이미지로 출력하기 위한 helper class 입니다."
   ]
  },
  {
   "cell_type": "code",
   "execution_count": null,
   "metadata": {},
   "outputs": [],
   "source": [
    "import base64\n",
    "import io\n",
    "from PIL import Image\n",
    "from IPython.display import HTML, display\n",
    "from langchain.schema import Document\n",
    "\n",
    "\n",
    "class ImageRetriever:\n",
    "    def __init__(self, retriever):\n",
    "        \"\"\"\n",
    "        이미지 검색기를 초기화합니다.\n",
    "\n",
    "        인자:\n",
    "        retriever: LangChain의 retriever 객체\n",
    "        \"\"\"\n",
    "        self.retriever = retriever\n",
    "\n",
    "    def invoke(self, query):\n",
    "        \"\"\"\n",
    "        쿼리를 사용하여 이미지를 검색하고 표시합니다.\n",
    "\n",
    "        인자:\n",
    "        query (str): 검색 쿼리\n",
    "        \"\"\"\n",
    "        docs = self.retriever.invoke(query)\n",
    "        if docs and isinstance(docs[0], Document):\n",
    "            self.plt_img_base64(docs[0].page_content)\n",
    "        else:\n",
    "            print(\"검색된 이미지가 없습니다.\")\n",
    "        return docs\n",
    "\n",
    "    @staticmethod\n",
    "    def resize_base64_image(base64_string, size=(224, 224)):\n",
    "        \"\"\"\n",
    "        Base64 문자열로 인코딩된 이미지의 크기를 조정합니다.\n",
    "\n",
    "        인자:\n",
    "        base64_string (str): 원본 이미지의 Base64 문자열.\n",
    "        size (tuple): (너비, 높이)로 표현된 원하는 이미지 크기.\n",
    "\n",
    "        반환:\n",
    "        str: 크기가 조정된 이미지의 Base64 문자열.\n",
    "        \"\"\"\n",
    "        img_data = base64.b64decode(base64_string)\n",
    "        img = Image.open(io.BytesIO(img_data))\n",
    "        resized_img = img.resize(size, Image.LANCZOS)\n",
    "        buffered = io.BytesIO()\n",
    "        resized_img.save(buffered, format=img.format)\n",
    "        return base64.b64encode(buffered.getvalue()).decode(\"utf-8\")\n",
    "\n",
    "    @staticmethod\n",
    "    def plt_img_base64(img_base64):\n",
    "        \"\"\"\n",
    "        Base64로 인코딩된 이미지를 표시합니다.\n",
    "\n",
    "        인자:\n",
    "        img_base64 (str): Base64로 인코딩된 이미지 문자열\n",
    "        \"\"\"\n",
    "        image_html = f'<img src=\"data:image/jpeg;base64,{img_base64}\" />'\n",
    "        display(HTML(image_html))"
   ]
  },
  {
   "cell_type": "code",
   "execution_count": null,
   "metadata": {},
   "outputs": [],
   "source": [
    "# Image Retriever 생성\n",
    "retriever = image_db.as_retriever(search_kwargs={\"k\": 3})\n",
    "image_retriever = ImageRetriever(retriever)"
   ]
  },
  {
   "cell_type": "code",
   "execution_count": null,
   "metadata": {},
   "outputs": [],
   "source": [
    "# 이미지 조회\n",
    "result = image_retriever.invoke(\"A Dog on the street\")"
   ]
  },
  {
   "cell_type": "markdown",
   "metadata": {},
   "source": [
    "![](./images/chroma-05.png)"
   ]
  },
  {
   "cell_type": "code",
   "execution_count": null,
   "metadata": {},
   "outputs": [],
   "source": [
    "# 이미지 조회\n",
    "result = image_retriever.invoke(\"Motorcycle with a man\")"
   ]
  },
  {
   "cell_type": "markdown",
   "metadata": {},
   "source": [
    "![](./images/chroma-06.png)"
   ]
  }
 ],
 "metadata": {
  "kernelspec": {
   "display_name": "langchain-kr-uRT90lmq-py3.11",
   "language": "python",
   "name": "python3"
  },
  "language_info": {
   "codemirror_mode": {
    "name": "ipython",
    "version": 3
   },
   "file_extension": ".py",
   "mimetype": "text/x-python",
   "name": "python",
   "nbconvert_exporter": "python",
   "pygments_lexer": "ipython3",
   "version": "3.11.10"
  }
 },
 "nbformat": 4,
 "nbformat_minor": 2
}
