{
 "cells": [
  {
   "cell_type": "markdown",
   "metadata": {},
   "source": [
    "# FAISS VectorStore\n",
    "1. CSV에서 한 행씩 chunking"
   ]
  },
  {
   "cell_type": "markdown",
   "metadata": {},
   "source": [
    "1. CSVLoader() 로 csv 파일 로드\n",
    "2. xml document 생성\n",
    "3. TextSplitter로 분할 : chunk_size=600, \n",
    "4. chroma db 생성(우선 10개만)\n",
    "   - splited text로 db 생성\n",
    "   - embedding : OpenAIEmbedding()\n",
    "5. query 테스트"
   ]
  },
  {
   "cell_type": "code",
   "execution_count": 1,
   "metadata": {},
   "outputs": [
    {
     "data": {
      "text/plain": [
       "True"
      ]
     },
     "execution_count": 1,
     "metadata": {},
     "output_type": "execute_result"
    }
   ],
   "source": [
    "# API 키를 환경변수로 관리하기 위한 설정 파일\n",
    "from dotenv import load_dotenv\n",
    "\n",
    "# API 키 정보 로드\n",
    "load_dotenv()"
   ]
  },
  {
   "cell_type": "code",
   "execution_count": 2,
   "metadata": {},
   "outputs": [
    {
     "name": "stdout",
     "output_type": "stream",
     "text": [
      "LangSmith 추적을 시작합니다.\n",
      "[프로젝트명]\n",
      "CH23-MyProject\n"
     ]
    }
   ],
   "source": [
    "# LangSmith 추적을 설정합니다. https://smith.langchain.com\n",
    "# !pip install langchain-teddynote\n",
    "from langchain_teddynote import logging\n",
    "\n",
    "# 프로젝트 이름을 입력합니다.\n",
    "logging.langsmith(\"CH23-MyProject\")"
   ]
  },
  {
   "cell_type": "code",
   "execution_count": null,
   "metadata": {},
   "outputs": [],
   "source": [
    "# CSV(공고데이터) 로드\n",
    "from langchain_community.document_loaders.csv_loader import CSVLoader\n",
    "\n",
    "# CSV 파일 경로\n",
    "loader = CSVLoader(\n",
    "    file_path=\"./data/announcement.csv\",\n",
    "    csv_args={\n",
    "        \"delimiter\": \",\",  # 구분자\n",
    "        \"quotechar\": '\"',  # 인용 부호 문자\n",
    "        \"fieldnames\": [\n",
    "            \"Sequence\",  # 순번\n",
    "            \"Registration number\",  # 공고번호\n",
    "            \"Announcement name\",  # 공고명\n",
    "            \"Support areas\",  # 지원분야\n",
    "            \"Region\",  # 지역\n",
    "            \"Target\",  # 지원대상\n",
    "            \"Target age\",  # 대상연령\n",
    "            \"Application period\",  # 접수기간\n",
    "            \"Entrepreneurial history\",  # 업력\n",
    "            \"Institution name\",  # 기관명\n",
    "            \"Organization classification\",  # 기관구분 : 공공, 민간, 교육\n",
    "            \"Department in charge\",  # 담당부서\n",
    "            \"Announcement number\",  # 공고 제 호\n",
    "            \"Announcement contents\",  # 공고내용\n",
    "            \"Registration date\",  # 공고등록일\n",
    "            \"Announcement registrar name\",  # 공고 기업명\n",
    "            \"How to apply work-in\",  # 신청방법 : 방문\n",
    "            \"How to apply By mail\",  # 신청방법 : 우편\n",
    "            \"How to apply By Fax\",  # 신청방법 : FAX\n",
    "            \"How to apply By email\",  # 신청방법 : email\n",
    "            \"How to apply online\",  # 신청방법 : 온라인\n",
    "            \"How to apply other\",  # 신청방법 : 기타\n",
    "            \"Who to apply for\",  # 신청대상\n",
    "            \"Excluded from application\",  # 제외대상\n",
    "            \"Summary\",  # 공고명 + 공고내용\n",
    "        ],  # 필드 이름\n",
    "    },\n",
    ")\n",
    "\n",
    "# 데이터 로드\n",
    "docs = loader.load()\n",
    "\n",
    "# 데이터 출력\n",
    "print(docs[1].page_content)"
   ]
  },
  {
   "cell_type": "code",
   "execution_count": 5,
   "metadata": {},
   "outputs": [
    {
     "data": {
      "text/plain": [
       "1129"
      ]
     },
     "execution_count": 5,
     "metadata": {},
     "output_type": "execute_result"
    }
   ],
   "source": [
    "len(docs[2].page_content)"
   ]
  },
  {
   "cell_type": "code",
   "execution_count": null,
   "metadata": {},
   "outputs": [],
   "source": [
    "# XML 변환\n",
    "xml_docs = []\n",
    "for doc in docs[1:]:\n",
    "    row = doc.page_content.split(\"\\n\")\n",
    "    row_str = \"<row>\"\n",
    "    for element in row:\n",
    "        splitted_element = element.split(\":\")\n",
    "        value = splitted_element[-1]\n",
    "        col = \":\".join(splitted_element[:-1])\n",
    "        row_str += f\"<{col}>{value.strip()}</{col}>\"\n",
    "    row_str += \"</row>\"\n",
    "    xml_docs.append(row_str)"
   ]
  },
  {
   "cell_type": "code",
   "execution_count": null,
   "metadata": {},
   "outputs": [],
   "source": [
    "# 리스트를 텍스트 파일에 저장\n",
    "with open(\"./xml_doc.txt\", \"w\") as f:\n",
    "    for item in xml_docs:\n",
    "        f.write(f\"{item}\\n\")"
   ]
  },
  {
   "cell_type": "code",
   "execution_count": null,
   "metadata": {},
   "outputs": [],
   "source": [
    "from langchain_community.document_loaders import TextLoader\n",
    "from langchain_openai.embeddings import OpenAIEmbeddings\n",
    "from langchain.text_splitter import RecursiveCharacterTextSplitter\n",
    "from langchain_chroma import Chroma"
   ]
  },
  {
   "cell_type": "code",
   "execution_count": null,
   "metadata": {},
   "outputs": [],
   "source": [
    "# 텍스트 분할\n",
    "text_splitter = RecursiveCharacterTextSplitter(chunk_size=500, chunk_overlap=50)\n",
    "\n",
    "loader1 = TextLoader(\"./xml_doc.txt\")\n",
    "\n",
    "# 문서 분할\n",
    "split_doc = loader1.load_and_split(text_splitter)\n",
    "\n",
    "# 문서 개수 확인\n",
    "len(split_doc)"
   ]
  },
  {
   "cell_type": "code",
   "execution_count": null,
   "metadata": {},
   "outputs": [],
   "source": [
    "split_doc[:10]"
   ]
  },
  {
   "cell_type": "code",
   "execution_count": null,
   "metadata": {},
   "outputs": [],
   "source": [
    "from langchain.retrievers import EnsembleRetriever\n",
    "from langchain.vectorstores import FAISS\n",
    "from langchain_openai import OpenAIEmbeddings"
   ]
  },
  {
   "cell_type": "code",
   "execution_count": null,
   "metadata": {},
   "outputs": [],
   "source": [
    "embeddings = OpenAIEmbeddings(model=\"text-embedding-3-small\")\n",
    "faiss_vectorstore = FAISS.from_documents(documents=split_doc, embedding=embeddings)"
   ]
  },
  {
   "cell_type": "code",
   "execution_count": null,
   "metadata": {},
   "outputs": [],
   "source": [
    "# FAISS index 저장\n",
    "faiss_vectorstore.save_local(\"./faiss500_index\")"
   ]
  },
  {
   "cell_type": "code",
   "execution_count": null,
   "metadata": {},
   "outputs": [],
   "source": [
    "# FAISS index 불러오기\n",
    "faiss_index_path = \"./faiss500_index\"\n",
    "embeddings = OpenAIEmbeddings(model=\"text-embedding-3-small\")\n",
    "\n",
    "faiss_db = FAISS.load_local(\n",
    "    faiss_index_path, embeddings, allow_dangerous_deserialization=True\n",
    ")"
   ]
  },
  {
   "cell_type": "code",
   "execution_count": null,
   "metadata": {},
   "outputs": [],
   "source": [
    "query1 = \"나는 서울에 살고있어.. 창업을 할려고 하는데 어떤 지원을 받을 수 있을까\"\n",
    "query2 = \"예비창업패키지에 대해 설명해줘\"\n",
    "# result = faiss_vectorstore.similarity_search(query1, k=3)\n",
    "result = faiss_db.similarity_search(query2, k=3)\n",
    "print(result[0].page_content)\n",
    "print(result[1].page_content)"
   ]
  },
  {
   "cell_type": "markdown",
   "metadata": {},
   "source": [
    "![](./images/chroma-06.png)"
   ]
  }
 ],
 "metadata": {
  "kernelspec": {
   "display_name": "langchain-kr-uRT90lmq-py3.11",
   "language": "python",
   "name": "python3"
  },
  "language_info": {
   "codemirror_mode": {
    "name": "ipython",
    "version": 3
   },
   "file_extension": ".py",
   "mimetype": "text/x-python",
   "name": "python",
   "nbconvert_exporter": "python",
   "pygments_lexer": "ipython3",
   "version": "3.11.10"
  }
 },
 "nbformat": 4,
 "nbformat_minor": 2
}
