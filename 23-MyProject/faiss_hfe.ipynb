{
 "cells": [
  {
   "cell_type": "markdown",
   "metadata": {},
   "source": [
    "# FAISS VectorStore\n",
    "1. CSV에서 한 행씩 chunking"
   ]
  },
  {
   "cell_type": "markdown",
   "metadata": {},
   "source": [
    "1. CSVLoader() 로 csv 파일 로드\n",
    "2. xml document 생성\n",
    "3. TextSplitter로 분할 : chunk_size=600, \n",
    "4. chroma db 생성(우선 10개만)\n",
    "   - splited text로 db 생성\n",
    "   - embedding : OpenAIEmbedding()\n",
    "5. query 테스트"
   ]
  },
  {
   "cell_type": "code",
   "execution_count": 1,
   "metadata": {},
   "outputs": [
    {
     "data": {
      "text/plain": [
       "True"
      ]
     },
     "execution_count": 1,
     "metadata": {},
     "output_type": "execute_result"
    }
   ],
   "source": [
    "# API 키를 환경변수로 관리하기 위한 설정 파일\n",
    "from dotenv import load_dotenv\n",
    "\n",
    "# API 키 정보 로드\n",
    "load_dotenv()"
   ]
  },
  {
   "cell_type": "code",
   "execution_count": 2,
   "metadata": {},
   "outputs": [
    {
     "name": "stdout",
     "output_type": "stream",
     "text": [
      "LangSmith 추적을 시작합니다.\n",
      "[프로젝트명]\n",
      "CH23-MyProject\n"
     ]
    }
   ],
   "source": [
    "# LangSmith 추적을 설정합니다. https://smith.langchain.com\n",
    "# !pip install langchain-teddynote\n",
    "from langchain_teddynote import logging\n",
    "\n",
    "# 프로젝트 이름을 입력합니다.\n",
    "logging.langsmith(\"CH23-MyProject\")"
   ]
  },
  {
   "cell_type": "code",
   "execution_count": 3,
   "metadata": {},
   "outputs": [],
   "source": [
    "import os\n",
    "import warnings\n",
    "\n",
    "# 경고 무시\n",
    "warnings.filterwarnings(\"ignore\")\n",
    "\n",
    "# ./cache/ 경로에 다운로드 받도록 설정\n",
    "os.environ[\"HF_HOME\"] = \"./cache/\""
   ]
  },
  {
   "cell_type": "code",
   "execution_count": 4,
   "metadata": {},
   "outputs": [],
   "source": [
    "# CSV(공고데이터) 로드\n",
    "from langchain_community.document_loaders.csv_loader import CSVLoader\n",
    "\n",
    "# CSV 파일 경로\n",
    "loader = CSVLoader(\n",
    "    file_path=\"./data/announcement.csv\",\n",
    "    csv_args={\n",
    "        \"delimiter\": \",\",  # 구분자\n",
    "        # \"quotechar\": '\"',  # 인용 부호 문자\n",
    "        # \"fieldnames\": [\n",
    "        #     \"Sequence\",  # 순번\n",
    "        #     \"Registration number\",  # 공고번호\n",
    "        #     \"Announcement name\",  # 공고명\n",
    "        #     \"Support areas\",  # 지원분야\n",
    "        #     \"Region\",  # 지역\n",
    "        #     \"Target\",  # 지원대상\n",
    "        #     \"Target age\",  # 대상연령\n",
    "        #     \"Application period\",  # 접수기간\n",
    "        #     \"Entrepreneurial history\",  # 업력\n",
    "        #     \"Institution name\",  # 기관명\n",
    "        #     \"Organization classification\",  # 기관구분 : 공공, 민간, 교육\n",
    "        #     \"Department in charge\",  # 담당부서\n",
    "        #     \"Announcement number\",  # 공고 제 호\n",
    "        #     \"Announcement contents\",  # 공고내용\n",
    "        #     \"Registration date\",  # 공고등록일\n",
    "        #     \"Announcement registrar name\",  # 공고 기업명\n",
    "        #     \"How to apply work-in\",  # 신청방법 : 방문\n",
    "        #     \"How to apply By mail\",  # 신청방법 : 우편\n",
    "        #     \"How to apply By Fax\",  # 신청방법 : FAX\n",
    "        #     \"How to apply By email\",  # 신청방법 : email\n",
    "        #     \"How to apply online\",  # 신청방법 : 온라인\n",
    "        #     \"How to apply other\",  # 신청방법 : 기타\n",
    "        #     \"Who to apply for\",  # 신청대상\n",
    "        #     \"Excluded from application\",  # 제외대상\n",
    "        #     \"Summary\",  # 공고명 + 공고내용\n",
    "        # ],  # 필드 이름\n",
    "    },\n",
    ")\n",
    "\n",
    "# 데이터 로드\n",
    "docs = loader.load()"
   ]
  },
  {
   "cell_type": "code",
   "execution_count": 5,
   "metadata": {},
   "outputs": [],
   "source": [
    "from langchain_huggingface.embeddings import HuggingFaceEmbeddings\n",
    "\n",
    "model_name = \"intfloat/multilingual-e5-large-instruct\"\n",
    "\n",
    "hf_embeddings = HuggingFaceEmbeddings(\n",
    "    model_name=model_name,\n",
    "    model_kwargs={\"device\": \"mps\"},  # cuda, cpu, mps\n",
    "    encode_kwargs={\"normalize_embeddings\": True},\n",
    ")"
   ]
  },
  {
   "cell_type": "code",
   "execution_count": null,
   "metadata": {},
   "outputs": [],
   "source": [
    "from langchain_community.vectorstores import FAISS\n",
    "\n",
    "# 첫 번째 행으로 FAISS DB 초기화\n",
    "first_doc = next(loader.lazy_load())\n",
    "db = FAISS.from_documents(documents=[first_doc], embedding=hf_embeddings)\n",
    "\n",
    "# 나머지 행들을 한 줄씩 처리하여 추가\n",
    "for doc in loader.lazy_load():\n",
    "    db.add_documents([doc])\n",
    "\n",
    "# FAISS 인덱스 저장 (선택사항)\n",
    "db.save_local(\"faiss_hfe_index\")"
   ]
  },
  {
   "cell_type": "code",
   "execution_count": 12,
   "metadata": {},
   "outputs": [],
   "source": [
    "def search_top_similar(db, query, top_k=3):\n",
    "    # 유사도 검색 실행\n",
    "    results = db.similarity_search_with_score(query=query, k=top_k)\n",
    "\n",
    "    # score 기준으로 정렬 (낮은 점수가 더 유사함)\n",
    "    sorted_results = sorted(results, key=lambda x: x[1], reverse=False)\n",
    "\n",
    "    # 상위 3개 결과 출력\n",
    "    print(f\"\\n검색어: {query}\")\n",
    "    print(\"\\n=== 가장 유사한 상위 3개 결과 ===\")\n",
    "\n",
    "    for idx, (doc, score) in enumerate(sorted_results[:top_k], 1):\n",
    "        print(f\"\\n{idx}위 (유사도 점수: {score:.4f})\")\n",
    "        print(f\"내용: {doc.page_content}\")\n",
    "        if hasattr(doc, \"metadata\") and doc.metadata:\n",
    "            print(f\"메타데이터: {doc.metadata}\")\n",
    "        print(\"-\" * 50)\n",
    "\n",
    "    return sorted_results[:top_k]\n",
    "\n",
    "\n",
    "# 사용 예시\n",
    "db = FAISS.load_local(\n",
    "    \"faiss_hfe_index\", hf_embeddings, allow_dangerous_deserialization=True\n",
    ")"
   ]
  },
  {
   "cell_type": "code",
   "execution_count": null,
   "metadata": {},
   "outputs": [],
   "source": [
    "from langchain_community.vectorstores import FAISS\n",
    "from langchain_community.embeddings import OpenAIEmbeddings\n",
    "\n",
    "\n",
    "def search_top_similar2(db, query, top_k=3):\n",
    "    results = db.similarity_search_with_score(query=query, k=top_k)\n",
    "\n",
    "    sorted_results = sorted(results, key=lambda x: x[1])\n",
    "\n",
    "    print(f\"\\n검색어: {query}\")\n",
    "    print(\"\\n=== 가장 유사한 상위 3개 결과 ===\")\n",
    "\n",
    "    for idx, (doc, score) in enumerate(sorted_results[:top_k], 1):\n",
    "        # page_content에서 공고명 추출 (형식에 따라 수정 필요)\n",
    "        content = doc.page_content\n",
    "        if isinstance(content, str):\n",
    "            # 문자열에서 공고명 필드 찾기\n",
    "            if \"공고명:\" in content:\n",
    "                notice_name = content.split(\"공고명:\")[1].split(\"\\n\")[0].strip()\n",
    "            else:\n",
    "                notice_name = \"공고명 찾을 수 없음\"\n",
    "        elif isinstance(content, dict):\n",
    "            # 딕셔너리에서 공고명 필드 찾기\n",
    "            notice_name = content.get(\"공고명\", \"공고명 없음\")\n",
    "        else:\n",
    "            notice_name = \"지원되지 않는 형식\"\n",
    "\n",
    "        print(f\"\\n{idx}위 (유사도 점수: {score:.4f})\")\n",
    "        print(f\"공고명: {notice_name}\")\n",
    "        print(\"-\" * 50)\n",
    "\n",
    "    return sorted_results[:top_k]"
   ]
  },
  {
   "cell_type": "code",
   "execution_count": 14,
   "metadata": {},
   "outputs": [
    {
     "name": "stdout",
     "output_type": "stream",
     "text": [
      "\n",
      "검색어: 예비창업패키지가 뭔가요\n",
      "\n",
      "=== 가장 유사한 상위 3개 결과 ===\n",
      "\n",
      "1위 (유사도 점수: 0.2110)\n",
      "내용: ﻿순번: 223\n",
      "공고번호: 167495\n",
      "공고명: 2024년도 예비창업패키지 예비창업자 모집 공고(수정)\n",
      "지원분야: 사업화\n",
      "지역: 전국\n",
      "대상: 일반인\n",
      "대상연령: 전체\n",
      "접수기간: 2024-01-30 ~ 2024-02-21 16:00\n",
      "창업업력: 예비창업자\n",
      "기관명: 창업진흥원\n",
      "기관구분: 공공기관\n",
      "담당부서: 예비초기창업실\n",
      "공고제호: \n",
      "공고내용: 혁신적인 기술과 사업모델(BM)을 보유한 예비창업자를 발굴ㆍ지원하기 위한\n",
      "『2024년 예비창업패키지』 참여자를 다음과 같이 모집합니다.\n",
      "\n",
      "* 수정사항 : 공고문 \"[붙임3] 중소벤처기업부 창업사업화 지원 제외사업 목록\" 중 지원 제외사업(1) 추가(2023년 사내벤처 육성 프로그램)\n",
      "공고등록일: 2024년 1월 30일\n",
      "공고기업명: 중소벤처기업부\n",
      "신청방법-방문접수: \n",
      "신청방법-우편접수: \n",
      "신청방법-팩스접수: \n",
      "신청방법-이메일접수: \n",
      "신청방법-온라인접수: https://www.k-startup.go.kr/web/contents/webPMSBizUnvs.do?returnUrl=/screen/BMO0101M01?pbancId=0566801\n",
      "신청방법-기타: \n",
      "신청대상: 아래 신청자격을 모두 충족한 자\n",
      "- 사업공고일(‘24.1.30.) 기준 신청자 명의의 사업자 등록 및 법인설립 등기를 하지  없는 자\n",
      "- 사업공고일(‘24.1.30.) 기준 최근 1개월 이내('24.1.1.~1.30.)에 개인사업자 폐업 또는 법인사업자 폐업(해산 및 청산)을 하지 않은 자\n",
      "※ 상세 자격요건은 공고문 참조\n",
      "제외대상: 공고문 신청 제외 대상 참조\n",
      "요약: 2024년도 예비창업패키지 예비창업자 모집 공고(수정)  혁신적인 기술과 사업모델(BM)을 보유한 예비창업자를 발굴ㆍ지원하기 위한\n",
      "『2024년 예비창업패키지』 참여자를 다음과 같이 모집합니다.\n",
      "\n",
      "* 수정사항 : 공고문 \"[붙임3] 중소벤처기업부 창업사업화 지원 제외사업 목록\" 중 지원 제외사업(1) 추가(2023년 사내벤처 육성 프로그램)\n",
      "메타데이터: {'source': './data/announcement.csv', 'row': 222}\n",
      "--------------------------------------------------\n",
      "\n",
      "2위 (유사도 점수: 0.2181)\n",
      "내용: ﻿순번: 378\n",
      "공고번호: 167680\n",
      "공고명: 2024년 예비창업 &; 초기창업 패키지 신청 함께 준비하기  참여자 모집공고\n",
      "지원분야: 멘토링ㆍ컨설팅ㆍ교육\n",
      "지역: 전국\n",
      "대상: 전체\n",
      "대상연령: 전체\n",
      "접수기간: 2024-02-16 ~ 2024-02-20 12:00\n",
      "창업업력: 예비창업자, 1년미만, 2년미만, 3년미만, 5년미만\n",
      "기관명: 퍼널모아\n",
      "기관구분: 민간\n",
      "담당부서: 창업지원교육팀\n",
      "공고제호: 공고 제 2024-4호\n",
      "공고내용: (사) 한국디지털컨버전스협회 협력사인 주식회사 퍼널모아는 창업가 정신과 혁신적인 기술창업 아이디어를 가진 예비 창업자분들의 성공 창업을 지원하고자 ⌜2024년 예비창업 &; 초기창업 패키지 신청 함께 준비하기⌟ 참여자를 모집하오니 준비된 예비·초기 창업자분들의 많은 지원 바랍니다.\n",
      "공고등록일: 2024년 2월 15일\n",
      "공고기업명: 주식회사 퍼널모아\n",
      "신청방법-방문접수: \n",
      "신청방법-우편접수: \n",
      "신청방법-팩스접수: \n",
      "신청방법-이메일접수: \n",
      "신청방법-온라인접수: https://forms.gle/CSdikvqS59bjuo5s8\n",
      "신청방법-기타: \n",
      "신청대상: ❍ 2024년에 예비 및 초기 창업 패키지나 유사한 정부 지원 사업에 지원할 계획이 있는 예비 및 초기 창업자 (지역과 연령 제한 없음)\n",
      "❍ 초기 창업자나 창업을 계획 중인 자\n",
      "제외대상: \n",
      "요약: 2024년 예비창업 &; 초기창업 패키지 신청 함께 준비하기  참여자 모집공고     (사) 한국디지털컨버전스협회 협력사인 주식회사 퍼널모아는 창업가 정신과 혁신적인 기술창업 아이디어를 가진 예비 창업자분들의 성공 창업을 지원하고자 ⌜2024년 예비창업 &; 초기창업 패키지 신청 함께 준비하기⌟ 참여자를 모집하오니 준비된 예비·초기 창업자분들의 많은 지원 바랍니다.\n",
      "메타데이터: {'source': './data/announcement.csv', 'row': 377}\n",
      "--------------------------------------------------\n",
      "\n",
      "3위 (유사도 점수: 0.2194)\n",
      "내용: ﻿순번: 193\n",
      "공고번호: 167479\n",
      "공고명: 2024년 예비창업패키지 소셜벤처 분야 사업설명회\n",
      "지원분야: 창업교육\n",
      "지역: 전국\n",
      "대상: 전체\n",
      "대상연령: 전체\n",
      "접수기간: 2024-01-25 ~ 2024-02-04 22:59\n",
      "창업업력: 전체\n",
      "기관명: 트라이벡스글로벌컨설팅\n",
      "기관구분: 민간\n",
      "담당부서: 창업지원팀\n",
      "공고제호: \n",
      "공고내용: 2024 예비창업패키지 지원자를 위한 사업설명회를 개최합니다\n",
      "\n",
      "사회적가치에 기여하는 사업아이템을 가지고 계신가요?\n",
      "그렇다면 2024 예비창업패키지는 소셜벤처 분야로 도전하세요.\n",
      "\n",
      "예비창업패키지, 무엇이 궁금하신가요?\n",
      "이번 사업설명회에서 예비창업패키지 그리고, 소셜벤처 분야 지원에 대한 모든 정보를 공개합니다.\n",
      "공고등록일: 2024년 1월 25일\n",
      "공고기업명: 트라이벡스글로벌컨설팅\n",
      "신청방법-방문접수: \n",
      "신청방법-우편접수: \n",
      "신청방법-팩스접수: \n",
      "신청방법-이메일접수: \n",
      "신청방법-온라인접수: https://forms.gle/aJoVYyvq1DhL4LyJA\n",
      "신청방법-기타: \n",
      "신청대상: - 예비창업자\n",
      "- 예비창업패키지 신청 예정자\n",
      "제외대상: \n",
      "요약: 2024년 예비창업패키지 소셜벤처 분야 사업설명회  2024 예비창업패키지 지원자를 위한 사업설명회를 개최합니다\n",
      "\n",
      "사회적가치에 기여하는 사업아이템을 가지고 계신가요?\n",
      "그렇다면 2024 예비창업패키지는 소셜벤처 분야로 도전하세요.\n",
      "\n",
      "예비창업패키지, 무엇이 궁금하신가요?\n",
      "이번 사업설명회에서 예비창업패키지 그리고, 소셜벤처 분야 지원에 대한 모든 정보를 공개합니다.\n",
      "메타데이터: {'source': './data/announcement.csv', 'row': 192}\n",
      "--------------------------------------------------\n"
     ]
    }
   ],
   "source": [
    "# 검색 실행\n",
    "#query = \"군인을 위한 창업 프로그램은\"\n",
    "query = \"예비창업패키지가 뭔가요\"\n",
    "top_results = search_top_similar(db, query, top_k=3)"
   ]
  },
  {
   "cell_type": "code",
   "execution_count": 20,
   "metadata": {},
   "outputs": [],
   "source": [
    "# FAISS index 불러오기\n",
    "faiss_index_path = \"./faiss_1_row_index\"\n",
    "embeddings = OpenAIEmbeddings(model=\"text-embedding-3-small\")\n",
    "\n",
    "faiss_db = FAISS.load_local(\n",
    "    faiss_index_path, embeddings, allow_dangerous_deserialization=True\n",
    ")"
   ]
  },
  {
   "cell_type": "code",
   "execution_count": null,
   "metadata": {},
   "outputs": [],
   "source": [
    "query1 = \"서울지역에서 하는 창업관련 교육 프로그램 알려줘\"\n",
    "query2 = \"창업진흥원에서 하는 초기창업패키지 모집기간이 언제야\"\n",
    "result = faiss_db.similarity_search_with_score(query1, k=3)\n",
    "# result = faiss_db.similarity_search_with_score(query2, k=3)\n",
    "\n",
    "for doc, score in result:\n",
    "    print(f\"문서내용: {doc.page_content}\")\n",
    "    print(f\"유사도점수: {score}\")\n",
    "    print(\"---------------------------------------------------\")"
   ]
  },
  {
   "cell_type": "markdown",
   "metadata": {},
   "source": [
    "![](./images/chroma-06.png)"
   ]
  }
 ],
 "metadata": {
  "kernelspec": {
   "display_name": "langchain-kr-uRT90lmq-py3.11",
   "language": "python",
   "name": "python3"
  },
  "language_info": {
   "codemirror_mode": {
    "name": "ipython",
    "version": 3
   },
   "file_extension": ".py",
   "mimetype": "text/x-python",
   "name": "python",
   "nbconvert_exporter": "python",
   "pygments_lexer": "ipython3",
   "version": "3.11.10"
  }
 },
 "nbformat": 4,
 "nbformat_minor": 2
}
