{
 "cells": [
  {
   "cell_type": "markdown",
   "metadata": {},
   "source": [
    "# FAISS VectorStore\n",
    "1. CSV에서 한 행씩 chunking"
   ]
  },
  {
   "cell_type": "markdown",
   "metadata": {},
   "source": [
    "1. CSVLoader() 로 csv 파일 로드\n",
    "2. xml document 생성\n",
    "3. TextSplitter로 분할 : chunk_size=600, \n",
    "4. chroma db 생성(우선 10개만)\n",
    "   - splited text로 db 생성\n",
    "   - embedding : OpenAIEmbedding()\n",
    "5. query 테스트"
   ]
  },
  {
   "cell_type": "code",
   "execution_count": 1,
   "metadata": {},
   "outputs": [
    {
     "data": {
      "text/plain": [
       "True"
      ]
     },
     "execution_count": 1,
     "metadata": {},
     "output_type": "execute_result"
    }
   ],
   "source": [
    "# API 키를 환경변수로 관리하기 위한 설정 파일\n",
    "from dotenv import load_dotenv\n",
    "\n",
    "# API 키 정보 로드\n",
    "load_dotenv()"
   ]
  },
  {
   "cell_type": "code",
   "execution_count": 4,
   "metadata": {},
   "outputs": [
    {
     "name": "stdout",
     "output_type": "stream",
     "text": [
      "LangSmith 추적을 시작합니다.\n",
      "[프로젝트명]\n",
      "CH23-MyProject\n"
     ]
    }
   ],
   "source": [
    "# LangSmith 추적을 설정합니다. https://smith.langchain.com\n",
    "# !pip install langchain-teddynote\n",
    "from langchain_teddynote import logging\n",
    "\n",
    "# 프로젝트 이름을 입력합니다.\n",
    "logging.langsmith(\"CH23-MyProject\")"
   ]
  },
  {
   "cell_type": "code",
   "execution_count": 5,
   "metadata": {},
   "outputs": [],
   "source": [
    "import os\n",
    "import warnings\n",
    "\n",
    "# 경고 무시\n",
    "warnings.filterwarnings(\"ignore\")\n",
    "\n",
    "# ./cache/ 경로에 다운로드 받도록 설정\n",
    "os.environ[\"HF_HOME\"] = \"./cache/\""
   ]
  },
  {
   "cell_type": "code",
   "execution_count": 4,
   "metadata": {},
   "outputs": [],
   "source": [
    "# CSV(공고데이터) 로드\n",
    "from langchain_community.document_loaders.csv_loader import CSVLoader\n",
    "\n",
    "# CSV 파일 경로\n",
    "loader = CSVLoader(\n",
    "    file_path=\"./data/announcement.csv\",\n",
    "    csv_args={\n",
    "        \"delimiter\": \",\",  # 구분자\n",
    "        # \"quotechar\": '\"',  # 인용 부호 문자\n",
    "        # \"fieldnames\": [\n",
    "        #     \"Sequence\",  # 순번\n",
    "        #     \"Registration number\",  # 공고번호\n",
    "        #     \"Announcement name\",  # 공고명\n",
    "        #     \"Support areas\",  # 지원분야\n",
    "        #     \"Region\",  # 지역\n",
    "        #     \"Target\",  # 지원대상\n",
    "        #     \"Target age\",  # 대상연령\n",
    "        #     \"Application period\",  # 접수기간\n",
    "        #     \"Entrepreneurial history\",  # 업력\n",
    "        #     \"Institution name\",  # 기관명\n",
    "        #     \"Organization classification\",  # 기관구분 : 공공, 민간, 교육\n",
    "        #     \"Department in charge\",  # 담당부서\n",
    "        #     \"Announcement number\",  # 공고 제 호\n",
    "        #     \"Announcement contents\",  # 공고내용\n",
    "        #     \"Registration date\",  # 공고등록일\n",
    "        #     \"Announcement registrar name\",  # 공고 기업명\n",
    "        #     \"How to apply work-in\",  # 신청방법 : 방문\n",
    "        #     \"How to apply By mail\",  # 신청방법 : 우편\n",
    "        #     \"How to apply By Fax\",  # 신청방법 : FAX\n",
    "        #     \"How to apply By email\",  # 신청방법 : email\n",
    "        #     \"How to apply online\",  # 신청방법 : 온라인\n",
    "        #     \"How to apply other\",  # 신청방법 : 기타\n",
    "        #     \"Who to apply for\",  # 신청대상\n",
    "        #     \"Excluded from application\",  # 제외대상\n",
    "        #     \"Summary\",  # 공고명 + 공고내용\n",
    "        # ],  # 필드 이름\n",
    "    },\n",
    ")\n",
    "\n",
    "# 데이터 로드\n",
    "docs = loader.load()"
   ]
  },
  {
   "cell_type": "code",
   "execution_count": 7,
   "metadata": {},
   "outputs": [],
   "source": [
    "from langchain_huggingface.embeddings import HuggingFaceEmbeddings\n",
    "\n",
    "model_name = \"intfloat/multilingual-e5-large-instruct\"\n",
    "\n",
    "hf_embeddings = HuggingFaceEmbeddings(\n",
    "    model_name=model_name,\n",
    "    model_kwargs={\"device\": \"mps\"},  # cuda, cpu, mps\n",
    "    encode_kwargs={\"normalize_embeddings\": True},\n",
    ")"
   ]
  },
  {
   "cell_type": "code",
   "execution_count": null,
   "metadata": {},
   "outputs": [],
   "source": [
    "from langchain_community.vectorstores import FAISS\n",
    "\n",
    "# 첫 번째 행으로 FAISS DB 초기화\n",
    "first_doc = next(loader.lazy_load())\n",
    "db = FAISS.from_documents(documents=[first_doc], embedding=hf_embeddings)\n",
    "\n",
    "# 나머지 행들을 한 줄씩 처리하여 추가\n",
    "for doc in loader.lazy_load():\n",
    "    db.add_documents([doc])\n",
    "\n",
    "# FAISS 인덱스 저장 (선택사항)\n",
    "db.save_local(\"faiss_hfe_index\")"
   ]
  },
  {
   "cell_type": "code",
   "execution_count": null,
   "metadata": {},
   "outputs": [],
   "source": [
    "from langchain_community.vectorstores import FAISS\n",
    "\n",
    "\n",
    "def search_top_similar(db, query, top_k=3):\n",
    "    # 유사도 검색 실행\n",
    "    results = db.similarity_search_with_score(query=query, k=top_k)\n",
    "\n",
    "    # score 기준으로 정렬 (낮은 점수가 더 유사함)\n",
    "    sorted_results = sorted(results, key=lambda x: x[1], reverse=False)\n",
    "\n",
    "    # 상위 3개 결과 출력\n",
    "    print(f\"\\n검색어: {query}\")\n",
    "    print(\"\\n=== 가장 유사한 상위 3개 결과 ===\")\n",
    "\n",
    "    for idx, (doc, score) in enumerate(sorted_results[:top_k], 1):\n",
    "        print(f\"\\n{idx}위 (유사도 점수: {score:.4f})\")\n",
    "        print(f\"내용: {doc.page_content}\")\n",
    "        if hasattr(doc, \"metadata\") and doc.metadata:\n",
    "            print(f\"메타데이터: {doc.metadata}\")\n",
    "        print(\"-\" * 50)\n",
    "\n",
    "    return sorted_results[:top_k]\n",
    "\n",
    "\n",
    "# 사용 예시\n",
    "db = FAISS.load_local(\n",
    "    \"faiss_hfe_index\", hf_embeddings, allow_dangerous_deserialization=True\n",
    ")"
   ]
  },
  {
   "cell_type": "code",
   "execution_count": 10,
   "metadata": {},
   "outputs": [],
   "source": [
    "from langchain_community.vectorstores import FAISS\n",
    "from langchain_community.embeddings import OpenAIEmbeddings\n",
    "\n",
    "\n",
    "def search_top_similar2(db, query, top_k=3):\n",
    "    results = db.similarity_search_with_score(query=query, k=top_k)\n",
    "\n",
    "    sorted_results = sorted(results, key=lambda x: x[1])\n",
    "\n",
    "    print(f\"\\n검색어: {query}\")\n",
    "    print(\"\\n=== 가장 유사한 상위 3개 결과 ===\")\n",
    "\n",
    "    for idx, (doc, score) in enumerate(sorted_results[:top_k], 1):\n",
    "        # page_content에서 공고명 추출 (형식에 따라 수정 필요)\n",
    "        content = doc.page_content\n",
    "        if isinstance(content, str):\n",
    "            # 문자열에서 공고명 필드 찾기\n",
    "            if \"공고명:\" in content:\n",
    "                notice_name = content.split(\"공고명:\")[1].split(\"\\n\")[0].strip()\n",
    "            else:\n",
    "                notice_name = \"공고명 찾을 수 없음\"\n",
    "        elif isinstance(content, dict):\n",
    "            # 딕셔너리에서 공고명 필드 찾기\n",
    "            notice_name = content.get(\"공고명\", \"공고명 없음\")\n",
    "        else:\n",
    "            notice_name = \"지원되지 않는 형식\"\n",
    "\n",
    "        print(f\"\\n{idx}위 (유사도 점수: {score:.4f})\")\n",
    "        print(f\"공고명: {notice_name}\")\n",
    "        print(\"-\" * 50)\n",
    "\n",
    "    return sorted_results[:top_k]"
   ]
  },
  {
   "cell_type": "code",
   "execution_count": null,
   "metadata": {},
   "outputs": [],
   "source": [
    "# 검색 실행\n",
    "#query = \"군인을 위한 창업 프로그램은\"\n",
    "# query = \"예비창업패키지가 뭔가요\"\n",
    "# query = \"대학생입니다. 창업을 할려고 하는데 지원받을 수 있는 프로그램이 뭐가 있을까요\"\n",
    "qeury = \"창업 교육 프로그램 알려줘\"\n",
    "top_results = search_top_similar(db, query, top_k=3)"
   ]
  },
  {
   "cell_type": "code",
   "execution_count": 20,
   "metadata": {},
   "outputs": [],
   "source": [
    "# FAISS index 불러오기\n",
    "faiss_index_path = \"./faiss_1_row_index\"\n",
    "embeddings = OpenAIEmbeddings(model=\"text-embedding-3-small\")\n",
    "\n",
    "faiss_db = FAISS.load_local(\n",
    "    faiss_index_path, embeddings, allow_dangerous_deserialization=True\n",
    ")"
   ]
  },
  {
   "cell_type": "code",
   "execution_count": null,
   "metadata": {},
   "outputs": [],
   "source": [
    "query1 = \"서울지역에서 하는 창업관련 교육 프로그램 알려줘\"\n",
    "query2 = \"창업진흥원에서 하는 초기창업패키지 모집기간이 언제야\"\n",
    "result = faiss_db.similarity_search_with_score(query1, k=3)\n",
    "# result = faiss_db.similarity_search_with_score(query2, k=3)\n",
    "\n",
    "for doc, score in result:\n",
    "    print(f\"문서내용: {doc.page_content}\")\n",
    "    print(f\"유사도점수: {score}\")\n",
    "    print(\"---------------------------------------------------\")"
   ]
  },
  {
   "cell_type": "markdown",
   "metadata": {},
   "source": [
    "![](./images/chroma-06.png)"
   ]
  }
 ],
 "metadata": {
  "kernelspec": {
   "display_name": "langchain-kr-uRT90lmq-py3.11",
   "language": "python",
   "name": "python3"
  },
  "language_info": {
   "codemirror_mode": {
    "name": "ipython",
    "version": 3
   },
   "file_extension": ".py",
   "mimetype": "text/x-python",
   "name": "python",
   "nbconvert_exporter": "python",
   "pygments_lexer": "ipython3",
   "version": "3.11.10"
  }
 },
 "nbformat": 4,
 "nbformat_minor": 2
}
