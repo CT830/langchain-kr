{
 "cells": [
  {
   "cell_type": "code",
   "execution_count": 1,
   "metadata": {},
   "outputs": [
    {
     "data": {
      "text/plain": [
       "True"
      ]
     },
     "execution_count": 1,
     "metadata": {},
     "output_type": "execute_result"
    }
   ],
   "source": [
    "# API 키를 환경변수로 관리하기 위한 설정 파일\n",
    "from dotenv import load_dotenv\n",
    "\n",
    "# API 키 정보 로드\n",
    "load_dotenv()"
   ]
  },
  {
   "cell_type": "code",
   "execution_count": 16,
   "metadata": {},
   "outputs": [],
   "source": [
    "# !pip install langchain-teddynote"
   ]
  },
  {
   "cell_type": "code",
   "execution_count": 2,
   "metadata": {},
   "outputs": [
    {
     "name": "stdout",
     "output_type": "stream",
     "text": [
      "LangSmith 추적을 시작합니다.\n",
      "[프로젝트명]\n",
      "CH99-MyTest\n"
     ]
    }
   ],
   "source": [
    "# LangSmith 추적을 설정합니다. https://smith.langchain.com\n",
    "# !pip install langchain-teddynote\n",
    "from langchain_teddynote import logging\n",
    "\n",
    "# 프로젝트 이름을 입력합니다.\n",
    "logging.langsmith(\"CH99-MyTest\")"
   ]
  },
  {
   "cell_type": "code",
   "execution_count": 3,
   "metadata": {},
   "outputs": [],
   "source": [
    "import pandas as pd\n",
    "import chromadb\n",
    "from chromadb.utils import embedding_functions\n",
    "from chromadb.config import Settings\n",
    "from tqdm import tqdm\n",
    "import os"
   ]
  },
  {
   "cell_type": "code",
   "execution_count": 4,
   "metadata": {},
   "outputs": [],
   "source": [
    "# 현재 디렉토리에 DB 저장 경로 설정\n",
    "current_dir = os.getcwd()\n",
    "db_path = os.path.join(current_dir, \"my_db.db\")\n",
    "\n",
    "# ChromaDB 클라이언트 초기화 (영구 저장소 설정)\n",
    "client = chromadb.PersistentClient(\n",
    "    path=db_path, settings=Settings(allow_reset=True, is_persistent=True)\n",
    ")"
   ]
  },
  {
   "cell_type": "code",
   "execution_count": 5,
   "metadata": {},
   "outputs": [
    {
     "name": "stderr",
     "output_type": "stream",
     "text": [
      "/Users/dubutan/Library/Caches/pypoetry/virtualenvs/langchain-kr-uRT90lmq-py3.11/lib/python3.11/site-packages/sentence_transformers/cross_encoder/CrossEncoder.py:13: TqdmExperimentalWarning: Using `tqdm.autonotebook.tqdm` in notebook mode. Use `tqdm.tqdm` instead to force console mode (e.g. in jupyter console)\n",
      "  from tqdm.autonotebook import tqdm, trange\n",
      "/Users/dubutan/Library/Caches/pypoetry/virtualenvs/langchain-kr-uRT90lmq-py3.11/lib/python3.11/site-packages/transformers/tokenization_utils_base.py:1601: FutureWarning: `clean_up_tokenization_spaces` was not set. It will be set to `True` by default. This behavior will be depracted in transformers v4.45, and will be then set to `False` by default. For more details check this issue: https://github.com/huggingface/transformers/issues/31884\n",
      "  warnings.warn(\n"
     ]
    },
    {
     "name": "stdout",
     "output_type": "stream",
     "text": [
      "기존 컬렉션 'my_collection'을 삭제합니다.\n",
      "컬렉션 'my_collection'이 삭제되었습니다.\n",
      "새로운 컬렉션 'my_collection'을 생성합니다.\n",
      "컬렉션 'my_collection'이 성공적으로 초기화되었습니다.\n",
      "\n",
      "=== 초기화된 컬렉션 정보 ===\n",
      "컬렉션 이름: my_collection\n",
      "컬렉션 크기: 0 문서\n"
     ]
    }
   ],
   "source": [
    "# Embedding 함수 설정\n",
    "embedding_function = embedding_functions.SentenceTransformerEmbeddingFunction(\n",
    "    model_name=\"all-MiniLM-L6-v2\"\n",
    ")\n",
    "\n",
    "\n",
    "def reset_collection(client, collection_name):\n",
    "    try:\n",
    "        # 기존 컬렉션 존재 여부 확인\n",
    "        existing_collections = client.list_collections()\n",
    "        collection_exists = any(\n",
    "            col.name == collection_name for col in existing_collections\n",
    "        )\n",
    "\n",
    "        if collection_exists:\n",
    "            print(f\"기존 컬렉션 '{collection_name}'을 삭제합니다.\")\n",
    "            client.delete_collection(collection_name)\n",
    "            print(f\"컬렉션 '{collection_name}'이 삭제되었습니다.\")\n",
    "\n",
    "        # 새로운 컬렉션 생성\n",
    "        print(f\"새로운 컬렉션 '{collection_name}'을 생성합니다.\")\n",
    "        collection = client.create_collection(\n",
    "            name=collection_name, embedding_function=embedding_function\n",
    "        )\n",
    "\n",
    "        print(f\"컬렉션 '{collection_name}'이 성공적으로 초기화되었습니다.\")\n",
    "        return collection\n",
    "\n",
    "    except Exception as e:\n",
    "        print(f\"컬렉션 초기화 중 오류 발생: {str(e)}\")\n",
    "        raise\n",
    "\n",
    "\n",
    "# 컬렉션 초기화 실행\n",
    "collection = reset_collection(client, \"my_collection\")\n",
    "\n",
    "# 컬렉션 정보 확인\n",
    "print(\"\\n=== 초기화된 컬렉션 정보 ===\")\n",
    "print(f\"컬렉션 이름: {collection.name}\")\n",
    "print(f\"컬렉션 크기: {collection.count()} 문서\")"
   ]
  },
  {
   "cell_type": "code",
   "execution_count": 112,
   "metadata": {},
   "outputs": [],
   "source": [
    "# 컬렉션 생성 (이미 존재하는 경우 가져오기)\n",
    "# try:\n",
    "#     collection = client.get_or_create_collection(\n",
    "#         name=\"my_collection\", embedding_function=embedding_function\n",
    "#     )\n",
    "# except ValueError:\n",
    "#     # 이미 존재하는 경우 기존 컬렉션 가져오기\n",
    "#     collection = client.get_collection(\n",
    "#         name=\"my_collection\", embedding_function=embedding_function\n",
    "#     )"
   ]
  },
  {
   "cell_type": "code",
   "execution_count": 6,
   "metadata": {},
   "outputs": [],
   "source": [
    "# DataFrame에서 ChromaDB용 데이터 준비 및 저장\n",
    "def prepare_and_store_data(df, collection):\n",
    "    # 배치 크기 설정\n",
    "    BATCH_SIZE = 100\n",
    "    total_rows = len(df)  # min(3000, len(df))  # 최대 3000개 row로 제한\n",
    "\n",
    "    documents = []\n",
    "    metadatas = []\n",
    "    ids = []\n",
    "\n",
    "    # tqdm으로 진행률 표시\n",
    "    for idx in tqdm(range(total_rows)):\n",
    "        row = df.iloc[idx]\n",
    "\n",
    "        # 공고명(col4)과 공고내용(col16)을 document content로 저장\n",
    "        documents.append(\n",
    "            str(row[\"col4\"]) + \" \" + str(row[\"col15\"]) + \" \" + str(row[\"col25\"])\n",
    "        )\n",
    "\n",
    "        # title, category, date를 metadata로 저장\n",
    "        metadatas.append(\n",
    "            {\n",
    "                \"support_area\": str(row[\"col5\"]),  # 지원분야\n",
    "                \"area\": str(row[\"col6\"]),  # 지역\n",
    "                \"target\": str(row[\"col7\"]),  # 지원대상\n",
    "                \"age\": str(row[\"col8\"]),  # 대상연령\n",
    "                \"work_history\": str(row[\"col10\"]),  # 업력\n",
    "                \"organizaion\": str(row[\"col11\"]),  # 기관명\n",
    "                \"orag_class\": str(row[\"col12\"]),  # 기관구분 : 공공, 민간, 교육\n",
    "                \"department\": str(row[\"col13\"]),  # 담당부서\n",
    "                \"apply_visit\": str(row[\"col19\"]),  # 신청방법 : 방문\n",
    "                \"apply_mail\": str(row[\"col20\"]),  # 신청방법 : 우편\n",
    "                \"apply_fax\": str(row[\"col21\"]),  # 신청방법 : FAX\n",
    "                \"apply_email\": str(row[\"col22\"]),  # 신청방법 : email\n",
    "                \"apply_online\": str(row[\"col23\"]),  # 신청방법 : 온라인\n",
    "                \"apply_target\": str(row[\"col25\"]),  # 신청대상\n",
    "                \"apply_exlude\": str(row[\"col20\"]),  # 제외대상\n",
    "            }\n",
    "        )\n",
    "\n",
    "        ids.append(str(idx))\n",
    "\n",
    "        # 배치 크기에 도달하면 저장\n",
    "        if len(documents) == BATCH_SIZE or idx == total_rows - 1:\n",
    "            print(f\"\\n배치 저장 중... ({len(documents)} 문서)\")\n",
    "            collection.add(documents=documents, metadatas=metadatas, ids=ids)\n",
    "\n",
    "            # 배치 초기화\n",
    "            documents = []\n",
    "            metadatas = []\n",
    "            ids = []\n",
    "\n",
    "    return total_rows"
   ]
  },
  {
   "cell_type": "code",
   "execution_count": 7,
   "metadata": {},
   "outputs": [],
   "source": [
    "# CSV 파일 읽기\n",
    "df = pd.read_csv(\"./data/gong.csv\")"
   ]
  },
  {
   "cell_type": "code",
   "execution_count": 8,
   "metadata": {},
   "outputs": [
    {
     "name": "stdout",
     "output_type": "stream",
     "text": [
      "3150\n"
     ]
    }
   ],
   "source": [
    "print(len(df))"
   ]
  },
  {
   "cell_type": "code",
   "execution_count": null,
   "metadata": {},
   "outputs": [],
   "source": [
    "# collection = get_or_create_collection(client, \"my_collection\")\n",
    "\n",
    "total_documents = prepare_and_store_data(df, collection)\n",
    "print(f\"\\n총 {total_documents}개의 문서가 성공적으로 저장되었습니다.\")"
   ]
  },
  {
   "cell_type": "code",
   "execution_count": 10,
   "metadata": {},
   "outputs": [
    {
     "name": "stdout",
     "output_type": "stream",
     "text": [
      "\n",
      "=== 저장된 데이터 샘플 확인 ===\n",
      "\n",
      "Document: [인천대학교 창업지원단] 2024년 예비창업패키지 대비 INU 스타트업 아카데미 교육생 모집 2024년 예비창업패키지를 준비하는 예비창업자를 발굴하고 지원하고자 참여를 희망하는 예비창업자는 안내에 따라 신청하기 바랍니다. nan\n",
      "Metadata: {'age': '전체', 'apply_email': 'nan', 'apply_exlude': 'nan', 'apply_fax': 'nan', 'apply_mail': 'nan', 'apply_online': 'nan', 'apply_target': 'nan', 'apply_visit': 'nan', 'area': '전국', 'department': '창업지원단', 'orag_class': '교육기관', 'organizaion': '국립대학법인 인천대학교', 'support_area': '사업화', 'target': '전체', 'work_history': '예비창업자'}\n",
      "\n",
      "현재 컬렉션의 총 문서 수: 3150\n"
     ]
    }
   ],
   "source": [
    "# 저장된 데이터 샘플 확인\n",
    "print(\"\\n=== 저장된 데이터 샘플 확인 ===\")\n",
    "sample_results = collection.get(ids=[\"0\"], include=[\"documents\", \"metadatas\"])\n",
    "print(\"\\nDocument:\", sample_results[\"documents\"][0])\n",
    "print(\"Metadata:\", sample_results[\"metadatas\"][0])\n",
    "\n",
    "# 컬렉션 정보 출력\n",
    "print(f\"\\n현재 컬렉션의 총 문서 수: {collection.count()}\")"
   ]
  },
  {
   "cell_type": "code",
   "execution_count": 11,
   "metadata": {},
   "outputs": [
    {
     "name": "stdout",
     "output_type": "stream",
     "text": [
      "Document 내용:\n",
      "[인천대학교 창업지원단] 2024년 예비창업패키지 대비 INU 스타트업 아카데미 교육생 모집 2024년 예비창업패키지를 준비하는 예비창업자를 발굴하고 지원하고자 참여를 희망하는 예비창업자는 안내에 따라 신청하기 바랍니다. nan\n",
      "\n",
      "Embedding 벡터 (처음 10개 값):\n",
      "[0.024758411571383476, 0.11222247779369354, 0.10782627016305923, -0.07709864526987076, -0.06997625529766083, -0.03515668585896492, 0.05440877750515938, 0.01205610390752554, -0.009746531955897808, 0.016725560650229454, 0.09892278909683228, -0.07387170195579529, 0.10022801160812378, -0.0635632798075676, 0.011222665198147297, -0.08720552176237106, 0.05799970030784607, -0.009464068338274956, -0.08313225954771042, 0.008907158859074116, 0.038746219128370285, 0.009589043445885181, -0.003916285000741482, 0.030059946700930595, -0.08925820887088776, -0.0009496996062807739, -0.04574006050825119, -0.03999411314725876, 0.02950669452548027, 0.11263961344957352, -0.03961150720715523, 0.10477109253406525, 0.006684944033622742, -0.0001435567537555471, -0.08199677616357803, -0.017175424844026566, 0.0053360178135335445, 0.0636972188949585, 0.007782424800097942, -0.06874652206897736, -0.1493527889251709, -0.10473571717739105, 0.08911873400211334, -0.032652877271175385, 0.07651646435260773, 0.0538826659321785, -0.04258551076054573, -0.02069106698036194, -0.021713610738515854, 0.007190188858658075, -0.06703413277864456, 0.08006704598665237, 0.06836548447608948, -0.05570380017161369, -0.04894193261861801, -0.03921934962272644, -0.04117751866579056, 0.04583152383565903, 0.018448617309331894, 0.046727895736694336, -0.029895639047026634, 0.022441694512963295, -0.008375040255486965, 0.057562585920095444, 0.04631493240594864, -0.010146372951567173, 0.008625316433608532, -0.048123959451913834, -0.050162456929683685, -0.016076693311333656, 0.09250779449939728, -0.019745422527194023, -0.0019649507012218237, 0.07917800545692444, -0.05270414426922798, 0.0058968509547412395, 0.05118643119931221, 0.03306424617767334, 0.019719233736395836, 0.028796697035431862, 0.0006081268074922264, -0.028514422476291656, 0.031213311478495598, -0.0017849501455202699, -0.07442943006753922, -0.02727939933538437, 0.02201305329799652, -0.05094832181930542, -0.060494840145111084, 0.05504345893859863, 0.0004572664329316467, 0.02806384488940239, -0.030992185696959496, -0.003755529411137104, -0.026329372078180313, 0.02382649853825569, -0.1196720078587532, 0.08780303597450256, 0.023815110325813293, 0.08544602245092392]\n"
     ]
    }
   ],
   "source": [
    "# 첫 번째 document 가져오기\n",
    "result = collection.get(\n",
    "    ids=[\"0\"],  # 첫 번째 행의 ID\n",
    "    include=[\"documents\", \"embeddings\"],  # documents와 embeddings 모두 포함\n",
    ")\n",
    "\n",
    "print(\"Document 내용:\")\n",
    "print(result[\"documents\"][0])  # 첫 번째 document의 텍스트 내용\n",
    "\n",
    "print(\"\\nEmbedding 벡터 (처음 10개 값):\")\n",
    "print(result[\"embeddings\"][0][:100])  # 임베딩 벡터의 처음 10개 값만 출력"
   ]
  },
  {
   "cell_type": "code",
   "execution_count": null,
   "metadata": {},
   "outputs": [],
   "source": [
    "from langchain_openai import ChatOpenAI\n",
    "import chromadb\n",
    "from chromadb.utils import embedding_functions\n",
    "import os\n",
    "\n",
    "# 쿼리 실행\n",
    "query = \"지원 지역이 서울특별시인 지원사업은\"\n",
    "# results = collection.query(query_texts=[query], n_results=3)  # 상위 3개 결과 가져오기\n",
    "results = collection.query(\n",
    "    query_texts=[query],\n",
    "    n_results=10,\n",
    "    # where={\n",
    "    #     \"area\" : \"서울특별시\",\n",
    "    # }\n",
    ")\n",
    "\n",
    "results[\"documents\"]"
   ]
  },
  {
   "cell_type": "code",
   "execution_count": null,
   "metadata": {},
   "outputs": [],
   "source": [
    "for i, doc in enumerate(results[\"documents\"][0]):\n",
    "    print(f\"\\nDocument {i+1}:\")\n",
    "    print(f\"Content: {doc}\")\n",
    "    print(f\"Metadata: {results['metadatas'][0][i]}\")"
   ]
  },
  {
   "cell_type": "code",
   "execution_count": null,
   "metadata": {},
   "outputs": [],
   "source": [
    "# OpenAI를 사용한 답변 생성\n",
    "# 객체 생성\n",
    "llm = ChatOpenAI(\n",
    "    temperature=0.1,  # 창의성 (0.0 ~ 2.0)\n",
    "    model_name=\"gpt-4o\",  # 모델명\n",
    ")\n",
    "\n",
    "# 프롬프트 구성\n",
    "prompt = f\"\"\"다음은 예비창업자가 지원할 수 있는 지원사업에 대한 검색 결과입니다. \n",
    "이를 바탕으로 예비창업자가 지원할 수 있는 주요 지원사업들을 간단명료하게 요약해서 설명해주세요:\n",
    "\n",
    "{results['documents'][0]}\n",
    "\"\"\"\n",
    "\n",
    "# ChatGPT API 호출\n",
    "# response = client.chat.completions.create(\n",
    "#     model=\"gpt-4o\",\n",
    "#     messages=[\n",
    "#         {\n",
    "#             \"role\": \"system\",\n",
    "#             \"content\": \"You are a helpful assistant that explains startup support programs in Korean.\",\n",
    "#         },\n",
    "#         {\"role\": \"user\", \"content\": prompt},\n",
    "#     ],\n",
    "#     temperature=0,\n",
    "#     max_tokens=1000,\n",
    "# )\n",
    "response = llm.invoke(prompt)\n",
    "\n",
    "print(\"\\n=== AI 답변 ===\")\n",
    "print(response.content)"
   ]
  }
 ],
 "metadata": {
  "kernelspec": {
   "display_name": "langchain-kr-uRT90lmq-py3.11",
   "language": "python",
   "name": "python3"
  },
  "language_info": {
   "codemirror_mode": {
    "name": "ipython",
    "version": 3
   },
   "file_extension": ".py",
   "mimetype": "text/x-python",
   "name": "python",
   "nbconvert_exporter": "python",
   "pygments_lexer": "ipython3",
   "version": "3.11.10"
  }
 },
 "nbformat": 4,
 "nbformat_minor": 2
}
