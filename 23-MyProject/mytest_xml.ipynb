{
 "cells": [
  {
   "cell_type": "code",
   "execution_count": null,
   "metadata": {},
   "outputs": [],
   "source": [
    "# API 키를 환경변수로 관리하기 위한 설정 파일\n",
    "from dotenv import load_dotenv\n",
    "\n",
    "# API 키 정보 로드\n",
    "load_dotenv()"
   ]
  },
  {
   "cell_type": "code",
   "execution_count": 16,
   "metadata": {},
   "outputs": [],
   "source": [
    "# !pip install langchain-teddynote"
   ]
  },
  {
   "cell_type": "code",
   "execution_count": null,
   "metadata": {},
   "outputs": [],
   "source": [
    "# LangSmith 추적을 설정합니다. https://smith.langchain.com\n",
    "# !pip install langchain-teddynote\n",
    "from langchain_teddynote import logging\n",
    "\n",
    "# 프로젝트 이름을 입력합니다.\n",
    "logging.langsmith(\"CH99-MyTest\")"
   ]
  },
  {
   "cell_type": "code",
   "execution_count": 9,
   "metadata": {},
   "outputs": [],
   "source": [
    "import pandas as pd\n",
    "import chromadb\n",
    "from chromadb.utils import embedding_functions\n",
    "from chromadb.config import Settings\n",
    "from tqdm import tqdm\n",
    "import os\n",
    "from langchain_community.document_loaders.csv_loader import CSVLoader"
   ]
  },
  {
   "cell_type": "code",
   "execution_count": null,
   "metadata": {},
   "outputs": [],
   "source": [
    "# CSV 파일 경로\n",
    "loader = CSVLoader(\n",
    "    file_path=\"./data/announcement.csv\",\n",
    "    csv_args={\n",
    "        \"delimiter\": \",\",  # 구분자\n",
    "        \"quotechar\": '\"',  # 인용 부호 문자\n",
    "        \"fieldnames\": [\n",
    "            \"Sequence\",  # 순번\n",
    "            \"Registration number\",  # 공고번호\n",
    "            \"Announcement name\",  # 공고명\n",
    "            \"Support areas\",  # 지원분야\n",
    "            \"Region\",  # 지역\n",
    "            \"Target\",  # 지원대상\n",
    "            \"Target age\",  # 대상연령\n",
    "            \"Application period\",  # 접수기간\n",
    "            \"Entrepreneurial history\",  # 업력\n",
    "            \"Institution name\",  # 기관명\n",
    "            \"Organization classification\",  # 기관구분 : 공공, 민간, 교육\n",
    "            \"Department in charge\",  # 담당부서\n",
    "            \"Announcement number\",  # 공고 제 호\n",
    "            \"Announcement contents\",  # 공고내용\n",
    "            \"Registration date\",  # 공고등록일\n",
    "            \"Announcement registrar name\",  # 공고 기업명\n",
    "            \"How to apply work-in\",  # 신청방법 : 방문\n",
    "            \"How to apply By mail\",  # 신청방법 : 우편\n",
    "            \"How to apply By Fax\",  # 신청방법 : FAX\n",
    "            \"How to apply By email\",  # 신청방법 : email\n",
    "            \"How to apply online\",  # 신청방법 : 온라인\n",
    "            \"How to apply other\",  # 신청방법 : 기타\n",
    "            \"Who to apply for\",  # 신청대상\n",
    "            \"Excluded from application\",  # 제외대상\n",
    "            \"Summary\",  # 공고명 + 공고내용\n",
    "        ],  # 필드 이름\n",
    "    },\n",
    ")\n",
    "\n",
    "# 데이터 로드\n",
    "docs = loader.load()\n",
    "\n",
    "# 데이터 출력\n",
    "print(docs[1].page_content)"
   ]
  },
  {
   "cell_type": "code",
   "execution_count": null,
   "metadata": {},
   "outputs": [],
   "source": [
    "print(docs[1])"
   ]
  },
  {
   "cell_type": "code",
   "execution_count": 61,
   "metadata": {},
   "outputs": [],
   "source": [
    "# XML 변환\n",
    "xml_docs = []\n",
    "for doc in docs[1:]:\n",
    "    row = doc.page_content.split(\"\\n\")\n",
    "    row_str = \"<row>\"\n",
    "    for element in row:\n",
    "        splitted_element = element.split(\":\")\n",
    "        value = splitted_element[-1]\n",
    "        col = \":\".join(splitted_element[:-1])\n",
    "        row_str += f\"<{col}>{value.strip()}</{col}>\"\n",
    "    row_str += \"</row>\"\n",
    "    xml_docs.append(row_str)"
   ]
  },
  {
   "cell_type": "code",
   "execution_count": null,
   "metadata": {},
   "outputs": [],
   "source": [
    "print(xml_docs[0])"
   ]
  },
  {
   "cell_type": "code",
   "execution_count": null,
   "metadata": {},
   "outputs": [],
   "source": [
    "# Embedding 함수 설정\n",
    "embedding_function = embedding_functions.SentenceTransformerEmbeddingFunction(\n",
    "    model_name=\"all-MiniLM-L6-v2\"\n",
    ")\n",
    "\n",
    "def reset_collection(client, collection_name):\n",
    "    try:\n",
    "        # 기존 컬렉션 존재 여부 확인\n",
    "        existing_collections = client.list_collections()\n",
    "        collection_exists = any(\n",
    "            col.name == collection_name for col in existing_collections\n",
    "        )\n",
    "\n",
    "        if collection_exists:\n",
    "            print(f\"기존 컬렉션 '{collection_name}'을 삭제합니다.\")\n",
    "            client.delete_collection(collection_name)\n",
    "            print(f\"컬렉션 '{collection_name}'이 삭제되었습니다.\")\n",
    "\n",
    "        # 새로운 컬렉션 생성\n",
    "        print(f\"새로운 컬렉션 '{collection_name}'을 생성합니다.\")\n",
    "        collection = client.create_collection(\n",
    "            name=collection_name, embedding_function=embedding_function\n",
    "        )\n",
    "\n",
    "        print(f\"컬렉션 '{collection_name}'이 성공적으로 초기화되었습니다.\")\n",
    "        return collection\n",
    "\n",
    "    except Exception as e:\n",
    "        print(f\"컬렉션 초기화 중 오류 발생: {str(e)}\")\n",
    "        raise\n",
    "\n",
    "\n",
    "# 컬렉션 초기화 실행\n",
    "collection = reset_collection(client, \"my_collection\")\n",
    "\n",
    "# 컬렉션 정보 확인\n",
    "print(\"\\n=== 초기화된 컬렉션 정보 ===\")\n",
    "print(f\"컬렉션 이름: {collection.name}\")\n",
    "print(f\"컬렉션 크기: {collection.count()} 문서\")"
   ]
  },
  {
   "cell_type": "code",
   "execution_count": 69,
   "metadata": {},
   "outputs": [],
   "source": [
    "# DataFrame에서 ChromaDB용 데이터 준비 및 저장\n",
    "def prepare_and_store_data(docs, collection):\n",
    "    # 배치 크기 설정\n",
    "    BATCH_SIZE = 100\n",
    "    total_rows = len(docs)\n",
    "\n",
    "    idx = 1\n",
    "    documents = []\n",
    "    metadatas = []\n",
    "    ids = []\n",
    "\n",
    "    # tqdm으로 진행률 표시\n",
    "    for idx in tqdm(range(total_rows)):\n",
    "        row = docs[idx]  # .page_content\n",
    "        documents.append(row)\n",
    "\n",
    "        ids.append(str(idx))\n",
    "\n",
    "        # 배치 크기에 도달하면 저장\n",
    "        if len(documents) == BATCH_SIZE or idx == total_rows - 1:\n",
    "            print(f\"\\n배치 저장 중... ({len(documents)} 문서)\")\n",
    "            # collection.add(documents=documents, metadatas=metadatas, ids=ids)\n",
    "            collection.add(documents=documents, ids=ids)\n",
    "\n",
    "            # 배치 초기화\n",
    "            documents = []\n",
    "            metadatas = []\n",
    "            ids = []\n",
    "\n",
    "    return total_rows"
   ]
  },
  {
   "cell_type": "code",
   "execution_count": null,
   "metadata": {},
   "outputs": [],
   "source": [
    "total_documents = prepare_and_store_data(xml_docs, collection)\n",
    "print(f\"\\n총 {total_documents}개의 문서가 성공적으로 저장되었습니다.\")"
   ]
  },
  {
   "cell_type": "code",
   "execution_count": null,
   "metadata": {},
   "outputs": [],
   "source": [
    "# 저장된 데이터 샘플 확인\n",
    "print(\"\\n=== 저장된 데이터 샘플 확인 ===\")\n",
    "sample_results = collection.get(ids=[\"0\"], include=[\"documents\", \"metadatas\"])\n",
    "print(\"\\nDocument:\", sample_results[\"documents\"][0])\n",
    "print(\"Metadata:\", sample_results[\"metadatas\"][0])\n",
    "\n",
    "# 컬렉션 정보 출력\n",
    "print(f\"\\n현재 컬렉션의 총 문서 수: {collection.count()}\")"
   ]
  },
  {
   "cell_type": "code",
   "execution_count": null,
   "metadata": {},
   "outputs": [],
   "source": [
    "# 첫 번째 document 가져오기\n",
    "result = collection.get(\n",
    "    ids=[\"1\"],  # 첫 번째 행의 ID\n",
    "    include=[\"documents\", \"embeddings\"],  # documents와 embeddings 모두 포함\n",
    ")\n",
    "\n",
    "print(\"Document 내용:\")\n",
    "print(result[\"documents\"][0])  # 첫 번째 document의 텍스트 내용\n",
    "\n",
    "print(\"\\nEmbedding 벡터 (처음 10개 값):\")\n",
    "print(result[\"embeddings\"][0][:100])  # 임베딩 벡터의 처음 10개 값만 출력"
   ]
  },
  {
   "cell_type": "code",
   "execution_count": 82,
   "metadata": {},
   "outputs": [],
   "source": [
    "from langchain_openai import ChatOpenAI\n",
    "import chromadb\n",
    "from chromadb.utils import embedding_functions\n",
    "import os\n",
    "\n",
    "# 쿼리 실행\n",
    "# query = \"서울에 살고있어 내가 지원받을 수 있는 정부지원사업은 뭐가 있지\"\n",
    "# query = \"I live in Seoul. What government support projects can I receive support from?\"\n",
    "# query = \"창업을 준비 중인데 창업관련 교육을 받고 싶은데 어떤 지원 프로그램이 있나요?\"\n",
    "# query = \"사내벤처 프로그램 알려줘\"\n",
    "query = \"예비창업자를 지원하는 프로그램은\"\n",
    "# results = collection.query(query_texts=[query], n_results=3)  # 상위 3개 결과 가져오기\n",
    "results = collection.query(\n",
    "    query_texts=[query],\n",
    "    n_results=1,\n",
    "    # where={\n",
    "    #     \"area\" : \"서울특별시\",\n",
    "    # }\n",
    ")\n",
    "\n",
    "# results[\"documents\"]"
   ]
  },
  {
   "cell_type": "code",
   "execution_count": null,
   "metadata": {},
   "outputs": [],
   "source": [
    "from langchain_chroma import Chroma\n",
    "\n",
    "persist_db = Chroma(\n",
    "    persist_directory=\"./my_db.db\",\n",
    "    embedding_function=embedding_function,\n",
    "    collection_name=\"my_collection\",\n",
    ")\n",
    "\n",
    "# 저장된 데이터 확인\n",
    "# persist_db.get()\n",
    "\n",
    "persist_db.similarity_search(\"예비창업자를 위한 지원 프로그램 알려줘\")"
   ]
  },
  {
   "cell_type": "code",
   "execution_count": null,
   "metadata": {},
   "outputs": [],
   "source": [
    "for i, doc in enumerate(results[\"documents\"][0]):\n",
    "    print(f\"\\nDocument {i+1}:\")\n",
    "    print(f\"Content: {doc}\")"
   ]
  },
  {
   "cell_type": "code",
   "execution_count": null,
   "metadata": {},
   "outputs": [],
   "source": [
    "# OpenAI를 사용한 답변 생성\n",
    "# 객체 생성\n",
    "llm = ChatOpenAI(\n",
    "    temperature=0.1,  # 창의성 (0.0 ~ 2.0)\n",
    "    model_name=\"gpt-4o\",  # 모델명\n",
    ")\n",
    "\n",
    "# 프롬프트 구성\n",
    "prompt = f\"\"\"다음은 예비창업자가 지원할 수 있는 지원사업에 대한 검색 결과입니다. \n",
    "이를 바탕으로 예비창업자가 지원할 수 있는 주요 지원사업들을 간단명료하게 요약해서 설명해주세요:\n",
    "\n",
    "{results['documents'][0]}\n",
    "\"\"\"\n",
    "\n",
    "# ChatGPT API 호출\n",
    "# response = client.chat.completions.create(\n",
    "#     model=\"gpt-4o\",\n",
    "#     messages=[\n",
    "#         {\n",
    "#             \"role\": \"system\",\n",
    "#             \"content\": \"You are a helpful assistant that explains startup support programs in Korean.\",\n",
    "#         },\n",
    "#         {\"role\": \"user\", \"content\": prompt},\n",
    "#     ],\n",
    "#     temperature=0,\n",
    "#     max_tokens=1000,\n",
    "# )\n",
    "response = llm.invoke(prompt)\n",
    "\n",
    "print(\"\\n=== AI 답변 ===\")\n",
    "print(response.content)"
   ]
  }
 ],
 "metadata": {
  "kernelspec": {
   "display_name": "langchain-kr-uRT90lmq-py3.11",
   "language": "python",
   "name": "python3"
  },
  "language_info": {
   "codemirror_mode": {
    "name": "ipython",
    "version": 3
   },
   "file_extension": ".py",
   "mimetype": "text/x-python",
   "name": "python",
   "nbconvert_exporter": "python",
   "pygments_lexer": "ipython3",
   "version": "3.11.10"
  }
 },
 "nbformat": 4,
 "nbformat_minor": 2
}
